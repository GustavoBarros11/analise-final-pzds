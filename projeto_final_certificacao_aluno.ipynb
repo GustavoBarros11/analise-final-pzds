{
 "cells": [
  {
   "cell_type": "markdown",
   "id": "2947e631",
   "metadata": {
    "id": "2947e631"
   },
   "source": [
    "# RESOLUÇÃO DO PROJETO DE CERTIFICAÇÃO"
   ]
  },
  {
   "cell_type": "markdown",
   "id": "b9d40a5c",
   "metadata": {
    "heading_collapsed": true,
    "id": "b9d40a5c"
   },
   "source": [
    "## Contexto do Problema"
   ]
  },
  {
   "cell_type": "markdown",
   "id": "ca987b85",
   "metadata": {
    "hidden": true,
    "id": "ca987b85"
   },
   "source": [
    "O investidor James Bauer gostaria de diversificar seus negócios e começar a investir em imóveis. Ele definiu que compraria imóveis na cidade de Nova York, nos Estados Unidos. Por ser um dos locais mais caros para se viver no País, ele acredita que obterá um retorno satisfatório de seus investimentos caso loque imóveis na cidade. Como todas as suas decisões são tomadas com base em dados, ele contratou você, cientista de dados, para ajudá-lo nessa empreitada.\n",
    "\n",
    "James Bauer planeja inicialmente locar os imóveis adquiridos e por isso ele definiu que irá utilizar a plataforma Airbnb para esse fim. Para isso, ele lhe entregou uma base de dados públicos da empresa, contendo os dados do comportamento dos hosts e de seus imóveis.\n",
    "\n",
    "Lembrando que o contexto, pessoas e perguntas são completamente fictícios e existem somente na minha imaginação."
   ]
  },
  {
   "cell_type": "markdown",
   "id": "165cc088",
   "metadata": {
    "heading_collapsed": true,
    "id": "165cc088"
   },
   "source": [
    "## O Desafio"
   ]
  },
  {
   "cell_type": "markdown",
   "id": "670773fa",
   "metadata": {
    "hidden": true,
    "id": "670773fa"
   },
   "source": [
    "James Bauer o contratou para realizar o estudo da base de dados fornecida e ajudá-lo com a escolha das regiões onde há maior locação e maiores preços, e que fiquem em regiões favoráveis da cidade de Nova York, pois ele acredita que essas características irão ajudá-lo a recuperar o dinheiro investido na aquisição desses imóveis mais rapidamente. Além disso, James Bauer pretende \n",
    "\n",
    "Dessa forma, seu trabalho é realizar uma análise exploratória e responder às seguintes perguntas feitas pelo Sr. James Bauer:\n",
    "\n",
    "1. Qual o `id` do imóvel com o aluguel (diária) mais caro da base de dados?\n",
    "2. Qual o `id` do imóvel com o aluguel (diária) mais barato da base de dados?\n",
    "3. Qual o `id` do imóvel que foi mais locado da base de dados?\n",
    "4. Qual o `id` do imóvel que ficou mais tempo com o anúncio disponível, em\n",
    "dias, para locação na base de dados?\n",
    "5. Qual o `id` do imóvel que ficou menos tempo com o anúncio disponível, em\n",
    "dias, para locação na base de dados?\n",
    "6. O imóvel com o maior valor de aluguel (diária) da base de dados é o imóvel\n",
    "que possui mais avaliações na base de dados?\n",
    "7. O imóvel que possui a menor quantidade mínima de diárias para locação é\n",
    "também o imóvel que possui o aluguel mais caro?\n",
    "8. Qual é a média do número mínimo de diárias para locação de um imóvel? \n",
    "9. Qual é o `id` do imóvel com a quantidade mínima de diárias para locação da base de dados?\n",
    "10. Qual é o `id` do host que possui o imóvel mais alugado na base de dados?\n",
    "11. Qual é o `id` do host que possui o imóvel menos alugado na base de dados?\n",
    "12. Qual é o `id` do host que possui o imóvel com mais avaliações na base de\n",
    "dados?\n",
    "13. Qual é o `id` do host que possui a maior quantidade de imóveis cadastrados\n",
    "na base de dados?\n",
    "14. Qual o `id` do host que possui o imóvel com a última avaliação feita na base\n",
    "de dados?\n",
    "15. Qual o `id` do host que possui mais imóveis ativos dentro da base de dados?\n",
    "16. O host que possui mais imóveis é o host que também possui mais\n",
    "avaliações?\n",
    "17. Qual é a categoria que mais possui imóveis dentro da base de dados?\n",
    "18. Qual é a categoria que menos possui imóveis dentro da base de dados?\n",
    "19. A região de Manhattan é a região que mais possui imóveis ativos para\n",
    "locação, da categoria `Private room`?\n",
    "20. Qual a categoria de imóvel que possui a maior média de tempo de\n",
    "disponibilidade para serem locados da região do `Bronx`? Considere somente\n",
    "imóveis ativos\n",
    "21. Qual a categoria de imóvel ativo que possui o maior valor de aluguel (diária)\n",
    "na região de `Manhattan`?\n",
    "22. A categoria de imóvel `Private Room` é a categoria que fica mais tempo\n",
    "disponível para locação?\n",
    "23. Qual a categoria de imóvel que fica mais tempo disponível, na média, para\n",
    "locação?\n",
    "24. A categoria de imóvel que fica menos tempo disponível, na média, para\n",
    "locação é a categoria que possui, em média, o menor aluguel (diária)?\n",
    "25. A categoria de imóvel `Entire home/apt` é a categoria que possui, na média, o\n",
    "maior valor de aluguel?\n",
    "26. A categoria de imóvel `Entire home/apt` é a categoria que possui, na média,\n",
    "menos locações?\n",
    "27. A categoria de imóvel `Private Room` na região de `Manhattan`, na média, é\n",
    "a categoria que possui o menor valor (diária) de locação, comparado as\n",
    "outras categorias na mesma região?\n",
    "28. Qual a região que possui a maior quantidade de imóveis?\n",
    "29. Qual a região que possui a menor quantidade de imóveis?\n",
    "30. A região que possui a maior quantidade de imóveis é também a região que\n",
    "possui os imóveis mais locados?\n",
    "31. Qual a região que possui a menor quantidade de imóveis locados dentro da\n",
    "base de dados?\n",
    "32. A região de `Manhattan` é a região que possui, na média, os maiores\n",
    "aluguéis (diárias) dentro da base de dados?\n",
    "33. A região de `Queens` é a região que possui, na média, os menores aluguéis\n",
    "(diárias) dentro da base de dados?\n",
    "34. Qual a região que possui, na média, os imóveis com os menores aluguéis\n",
    "dentro da base de dados?\n",
    "35. Qual a região que possui os imóveis que ficam, na média, menos tempo\n",
    "disponíveis para aluguel? Ou seja, são alugados mais rápidos na média?\n",
    "36. Qual o bairro possui a maior quantidade de imóveis ativos para locação?\n",
    "37. Qual o bairro possui a menor quantidade de imóveis ativos para locação?\n",
    "38. Qual bairro está o imóvel com o maior valor de aluguel?\n",
    "39. Qual bairro está o imóvel com o menor valor de aluguel?\n",
    "40. Qual região que possui o bairro com mais imóveis ativos disponíveis para\n",
    "locação?\n",
    "41. Qual região que possui o bairro com menos imóveis ativos disponíveis para\n",
    "locação?\n",
    "42. O Bairro `Upper West Side`, na região de `Manhattan`, é o bairro que possui,\n",
    "na média, o maior aluguel dentro da base de dados?\n",
    "43. Qual é o bairro que possui, na média, o aluguel mais caro da base de dados?\n",
    "44. Qual o id do imóvel que possui a melhor rentabilidade da base de dados?\n",
    "Levando em consideração o aluguel mais caro e imóvel mais rápido de\n",
    "alugar? Utilize somente os imóveis que estejam ativos e que possuam pelo\n",
    "menos uma avaliação. Utilize a seguinte fórmula para verificar qual o melhor\n",
    "imóvel:\n",
    "\n",
    "$$ 𝑟𝑒𝑛𝑡𝑎𝑏𝑖𝑙𝑖𝑑𝑎𝑑𝑒 = \\frac{𝑝𝑟𝑖𝑐𝑒 * (𝑚𝑖𝑛𝑖𝑚𝑢𝑚\\_𝑛𝑖𝑔ℎ𝑡𝑠 + 1) *  n𝑢𝑚𝑏𝑒𝑟\\_𝑜𝑓\\_𝑟𝑒𝑣𝑖𝑒𝑤𝑠}{ \\sqrt{𝑎𝑣𝑎𝑖𝑙𝑎𝑏𝑖𝑙𝑖𝑡𝑦_365}} $$\n",
    "\n",
    "45. Qual a região em que fica o melhor bairro para se adquirir um imóvel, visando\n",
    "a melhor rentabilidade média? Utilize como métrica o índice criado na\n",
    "questão anterior.\n",
    "46. Qual a região em que fica o pior bairro para se adquirir um imóvel, visando a melhor rentabilidade média? Utilize como métrica o índice criado na questão 44.\n",
    "47. Levando em conta o bairro encontrado na questão anterior, verifique qual é o\n",
    "`id` do imóvel ativo que possui a pior rentabilidade desse bairro\n",
    "48. Levando em conta o bairro da questão 45, verifique qual o `id` do imóvel ativo que possui a melhor rentabilidade desse bairro\n",
    "49. Caso eu, investidor, compre o imóvel da questão anterior com um\n",
    "investimento de U$ 1.000.000,00, quantas vezes eu teria que locá-lo para ter\n",
    "o retorno do investimento feito? Utilize a fórmula abaixo para calcular o tempo\n",
    "de retorno do investimento:\n",
    "\n",
    "$$ 𝑟𝑒𝑡𝑢𝑟𝑛_𝑖𝑛𝑣𝑒𝑠𝑡𝑚𝑒𝑛𝑡 = \\frac{𝑖𝑛𝑣𝑒𝑠𝑡𝑚𝑒𝑛𝑡}{𝑝𝑟𝑖𝑐𝑒 * (𝑚𝑖𝑛𝑖𝑚𝑢𝑚\\_𝑛𝑖𝑔ℎ𝑡𝑠 + 1)} $$\n",
    "\n",
    "50. Se eu desejasse comprar um imóvel que esteja ativo em um dos bairros\n",
    "abaixo, qual seria o `id` do imóvel com a melhor rentabilidade dentre esses\n",
    "bairros? Utilize o índice calculado na questão 44.\n",
    "  * East Harlem\n",
    "  * Harlem\n",
    "  * Midtown\n",
    "  * Morningside Heights\n",
    "  * Upper West Side\n",
    "  * Upper East Side"
   ]
  },
  {
   "cell_type": "markdown",
   "id": "d0240178",
   "metadata": {
    "heading_collapsed": true,
    "id": "d0240178"
   },
   "source": [
    "## Os Dados"
   ]
  },
  {
   "cell_type": "markdown",
   "id": "31be0f41",
   "metadata": {
    "hidden": true,
    "id": "31be0f41"
   },
   "source": [
    "O conjunto de dados que representam o contexto está disponível na plataforma do Kaggle. O link para acesso aos dados :\n",
    "\n",
    "https://www.kaggle.com/datasets/dgomonov/new-york-city-airbnb-open-data\n"
   ]
  },
  {
   "cell_type": "markdown",
   "id": "a3a41c2a",
   "metadata": {
    "id": "a3a41c2a"
   },
   "source": [
    "## Solução do Desafio"
   ]
  },
  {
   "cell_type": "markdown",
   "id": "26f68b40",
   "metadata": {
    "heading_collapsed": true,
    "id": "26f68b40"
   },
   "source": [
    "### Imports de Bibliotecas"
   ]
  },
  {
   "cell_type": "code",
   "execution_count": 38,
   "id": "89188b73",
   "metadata": {
    "ExecuteTime": {
     "end_time": "2022-04-27T19:05:40.949559Z",
     "start_time": "2022-04-27T19:05:40.946604Z"
    },
    "hidden": true,
    "id": "89188b73"
   },
   "outputs": [],
   "source": [
    "import pandas as pd\n",
    "import numpy as np\n",
    "import matplotlib.pyplot as plt\n",
    "import seaborn as sns\n",
    "\n",
    "# Inserção de Imagens\n",
    "from IPython.display import Image\n",
    "\n",
    "%matplotlib inline\n",
    "sns.set()\n",
    "pd.set_option('display.float_format', '{:.2f}'.format)"
   ]
  },
  {
   "cell_type": "markdown",
   "id": "a5cf2508",
   "metadata": {},
   "source": [
    "# 1) Coleta e Limpeza dos Dados"
   ]
  },
  {
   "cell_type": "markdown",
   "id": "d75baf0d",
   "metadata": {
    "heading_collapsed": true,
    "id": "d75baf0d"
   },
   "source": [
    "### Leitura do Arquivo"
   ]
  },
  {
   "cell_type": "code",
   "execution_count": 2,
   "id": "40c14a9c",
   "metadata": {
    "hidden": true,
    "id": "40c14a9c"
   },
   "outputs": [
    {
     "data": {
      "text/html": [
       "<div>\n",
       "<style scoped>\n",
       "    .dataframe tbody tr th:only-of-type {\n",
       "        vertical-align: middle;\n",
       "    }\n",
       "\n",
       "    .dataframe tbody tr th {\n",
       "        vertical-align: top;\n",
       "    }\n",
       "\n",
       "    .dataframe thead th {\n",
       "        text-align: right;\n",
       "    }\n",
       "</style>\n",
       "<table border=\"1\" class=\"dataframe\">\n",
       "  <thead>\n",
       "    <tr style=\"text-align: right;\">\n",
       "      <th></th>\n",
       "      <th>id</th>\n",
       "      <th>name</th>\n",
       "      <th>host_id</th>\n",
       "      <th>host_name</th>\n",
       "      <th>neighbourhood_group</th>\n",
       "      <th>neighbourhood</th>\n",
       "      <th>latitude</th>\n",
       "      <th>longitude</th>\n",
       "      <th>room_type</th>\n",
       "      <th>price</th>\n",
       "      <th>minimum_nights</th>\n",
       "      <th>number_of_reviews</th>\n",
       "      <th>last_review</th>\n",
       "      <th>reviews_per_month</th>\n",
       "      <th>calculated_host_listings_count</th>\n",
       "      <th>availability_365</th>\n",
       "    </tr>\n",
       "  </thead>\n",
       "  <tbody>\n",
       "    <tr>\n",
       "      <th>0</th>\n",
       "      <td>2539</td>\n",
       "      <td>Clean &amp; quiet apt home by the park</td>\n",
       "      <td>2787</td>\n",
       "      <td>John</td>\n",
       "      <td>Brooklyn</td>\n",
       "      <td>Kensington</td>\n",
       "      <td>40.65</td>\n",
       "      <td>-73.97</td>\n",
       "      <td>Private room</td>\n",
       "      <td>149</td>\n",
       "      <td>1</td>\n",
       "      <td>9</td>\n",
       "      <td>2018-10-19</td>\n",
       "      <td>0.21</td>\n",
       "      <td>6</td>\n",
       "      <td>365</td>\n",
       "    </tr>\n",
       "    <tr>\n",
       "      <th>1</th>\n",
       "      <td>2595</td>\n",
       "      <td>Skylit Midtown Castle</td>\n",
       "      <td>2845</td>\n",
       "      <td>Jennifer</td>\n",
       "      <td>Manhattan</td>\n",
       "      <td>Midtown</td>\n",
       "      <td>40.75</td>\n",
       "      <td>-73.98</td>\n",
       "      <td>Entire home/apt</td>\n",
       "      <td>225</td>\n",
       "      <td>1</td>\n",
       "      <td>45</td>\n",
       "      <td>2019-05-21</td>\n",
       "      <td>0.38</td>\n",
       "      <td>2</td>\n",
       "      <td>355</td>\n",
       "    </tr>\n",
       "    <tr>\n",
       "      <th>2</th>\n",
       "      <td>3647</td>\n",
       "      <td>THE VILLAGE OF HARLEM....NEW YORK !</td>\n",
       "      <td>4632</td>\n",
       "      <td>Elisabeth</td>\n",
       "      <td>Manhattan</td>\n",
       "      <td>Harlem</td>\n",
       "      <td>40.81</td>\n",
       "      <td>-73.94</td>\n",
       "      <td>Private room</td>\n",
       "      <td>150</td>\n",
       "      <td>3</td>\n",
       "      <td>0</td>\n",
       "      <td>NaN</td>\n",
       "      <td>NaN</td>\n",
       "      <td>1</td>\n",
       "      <td>365</td>\n",
       "    </tr>\n",
       "    <tr>\n",
       "      <th>3</th>\n",
       "      <td>3831</td>\n",
       "      <td>Cozy Entire Floor of Brownstone</td>\n",
       "      <td>4869</td>\n",
       "      <td>LisaRoxanne</td>\n",
       "      <td>Brooklyn</td>\n",
       "      <td>Clinton Hill</td>\n",
       "      <td>40.69</td>\n",
       "      <td>-73.96</td>\n",
       "      <td>Entire home/apt</td>\n",
       "      <td>89</td>\n",
       "      <td>1</td>\n",
       "      <td>270</td>\n",
       "      <td>2019-07-05</td>\n",
       "      <td>4.64</td>\n",
       "      <td>1</td>\n",
       "      <td>194</td>\n",
       "    </tr>\n",
       "    <tr>\n",
       "      <th>4</th>\n",
       "      <td>5022</td>\n",
       "      <td>Entire Apt: Spacious Studio/Loft by central park</td>\n",
       "      <td>7192</td>\n",
       "      <td>Laura</td>\n",
       "      <td>Manhattan</td>\n",
       "      <td>East Harlem</td>\n",
       "      <td>40.80</td>\n",
       "      <td>-73.94</td>\n",
       "      <td>Entire home/apt</td>\n",
       "      <td>80</td>\n",
       "      <td>10</td>\n",
       "      <td>9</td>\n",
       "      <td>2018-11-19</td>\n",
       "      <td>0.10</td>\n",
       "      <td>1</td>\n",
       "      <td>0</td>\n",
       "    </tr>\n",
       "  </tbody>\n",
       "</table>\n",
       "</div>"
      ],
      "text/plain": [
       "     id                                              name  host_id  \\\n",
       "0  2539                Clean & quiet apt home by the park     2787   \n",
       "1  2595                             Skylit Midtown Castle     2845   \n",
       "2  3647               THE VILLAGE OF HARLEM....NEW YORK !     4632   \n",
       "3  3831                   Cozy Entire Floor of Brownstone     4869   \n",
       "4  5022  Entire Apt: Spacious Studio/Loft by central park     7192   \n",
       "\n",
       "     host_name neighbourhood_group neighbourhood  latitude  longitude  \\\n",
       "0         John            Brooklyn    Kensington     40.65     -73.97   \n",
       "1     Jennifer           Manhattan       Midtown     40.75     -73.98   \n",
       "2    Elisabeth           Manhattan        Harlem     40.81     -73.94   \n",
       "3  LisaRoxanne            Brooklyn  Clinton Hill     40.69     -73.96   \n",
       "4        Laura           Manhattan   East Harlem     40.80     -73.94   \n",
       "\n",
       "         room_type  price  minimum_nights  number_of_reviews last_review  \\\n",
       "0     Private room    149               1                  9  2018-10-19   \n",
       "1  Entire home/apt    225               1                 45  2019-05-21   \n",
       "2     Private room    150               3                  0         NaN   \n",
       "3  Entire home/apt     89               1                270  2019-07-05   \n",
       "4  Entire home/apt     80              10                  9  2018-11-19   \n",
       "\n",
       "   reviews_per_month  calculated_host_listings_count  availability_365  \n",
       "0               0.21                               6               365  \n",
       "1               0.38                               2               355  \n",
       "2                NaN                               1               365  \n",
       "3               4.64                               1               194  \n",
       "4               0.10                               1                 0  "
      ]
     },
     "execution_count": 2,
     "metadata": {},
     "output_type": "execute_result"
    }
   ],
   "source": [
    "data = pd.read_csv('AB_NYC_2019.csv')\n",
    "data.head()"
   ]
  },
  {
   "cell_type": "code",
   "execution_count": 3,
   "id": "d781c401",
   "metadata": {
    "hidden": true,
    "id": "d781c401"
   },
   "outputs": [
    {
     "data": {
      "text/html": [
       "<div>\n",
       "<style scoped>\n",
       "    .dataframe tbody tr th:only-of-type {\n",
       "        vertical-align: middle;\n",
       "    }\n",
       "\n",
       "    .dataframe tbody tr th {\n",
       "        vertical-align: top;\n",
       "    }\n",
       "\n",
       "    .dataframe thead th {\n",
       "        text-align: right;\n",
       "    }\n",
       "</style>\n",
       "<table border=\"1\" class=\"dataframe\">\n",
       "  <thead>\n",
       "    <tr style=\"text-align: right;\">\n",
       "      <th></th>\n",
       "      <th>id</th>\n",
       "      <th>name</th>\n",
       "      <th>host_id</th>\n",
       "      <th>host_name</th>\n",
       "      <th>neighbourhood_group</th>\n",
       "      <th>neighbourhood</th>\n",
       "      <th>latitude</th>\n",
       "      <th>longitude</th>\n",
       "      <th>room_type</th>\n",
       "      <th>price</th>\n",
       "      <th>minimum_nights</th>\n",
       "      <th>number_of_reviews</th>\n",
       "      <th>last_review</th>\n",
       "      <th>reviews_per_month</th>\n",
       "      <th>calculated_host_listings_count</th>\n",
       "      <th>availability_365</th>\n",
       "    </tr>\n",
       "  </thead>\n",
       "  <tbody>\n",
       "    <tr>\n",
       "      <th>48890</th>\n",
       "      <td>36484665</td>\n",
       "      <td>Charming one bedroom - newly renovated rowhouse</td>\n",
       "      <td>8232441</td>\n",
       "      <td>Sabrina</td>\n",
       "      <td>Brooklyn</td>\n",
       "      <td>Bedford-Stuyvesant</td>\n",
       "      <td>40.68</td>\n",
       "      <td>-73.95</td>\n",
       "      <td>Private room</td>\n",
       "      <td>70</td>\n",
       "      <td>2</td>\n",
       "      <td>0</td>\n",
       "      <td>NaN</td>\n",
       "      <td>NaN</td>\n",
       "      <td>2</td>\n",
       "      <td>9</td>\n",
       "    </tr>\n",
       "    <tr>\n",
       "      <th>48891</th>\n",
       "      <td>36485057</td>\n",
       "      <td>Affordable room in Bushwick/East Williamsburg</td>\n",
       "      <td>6570630</td>\n",
       "      <td>Marisol</td>\n",
       "      <td>Brooklyn</td>\n",
       "      <td>Bushwick</td>\n",
       "      <td>40.70</td>\n",
       "      <td>-73.93</td>\n",
       "      <td>Private room</td>\n",
       "      <td>40</td>\n",
       "      <td>4</td>\n",
       "      <td>0</td>\n",
       "      <td>NaN</td>\n",
       "      <td>NaN</td>\n",
       "      <td>2</td>\n",
       "      <td>36</td>\n",
       "    </tr>\n",
       "    <tr>\n",
       "      <th>48892</th>\n",
       "      <td>36485431</td>\n",
       "      <td>Sunny Studio at Historical Neighborhood</td>\n",
       "      <td>23492952</td>\n",
       "      <td>Ilgar &amp; Aysel</td>\n",
       "      <td>Manhattan</td>\n",
       "      <td>Harlem</td>\n",
       "      <td>40.81</td>\n",
       "      <td>-73.95</td>\n",
       "      <td>Entire home/apt</td>\n",
       "      <td>115</td>\n",
       "      <td>10</td>\n",
       "      <td>0</td>\n",
       "      <td>NaN</td>\n",
       "      <td>NaN</td>\n",
       "      <td>1</td>\n",
       "      <td>27</td>\n",
       "    </tr>\n",
       "    <tr>\n",
       "      <th>48893</th>\n",
       "      <td>36485609</td>\n",
       "      <td>43rd St. Time Square-cozy single bed</td>\n",
       "      <td>30985759</td>\n",
       "      <td>Taz</td>\n",
       "      <td>Manhattan</td>\n",
       "      <td>Hell's Kitchen</td>\n",
       "      <td>40.76</td>\n",
       "      <td>-73.99</td>\n",
       "      <td>Shared room</td>\n",
       "      <td>55</td>\n",
       "      <td>1</td>\n",
       "      <td>0</td>\n",
       "      <td>NaN</td>\n",
       "      <td>NaN</td>\n",
       "      <td>6</td>\n",
       "      <td>2</td>\n",
       "    </tr>\n",
       "    <tr>\n",
       "      <th>48894</th>\n",
       "      <td>36487245</td>\n",
       "      <td>Trendy duplex in the very heart of Hell's Kitchen</td>\n",
       "      <td>68119814</td>\n",
       "      <td>Christophe</td>\n",
       "      <td>Manhattan</td>\n",
       "      <td>Hell's Kitchen</td>\n",
       "      <td>40.76</td>\n",
       "      <td>-73.99</td>\n",
       "      <td>Private room</td>\n",
       "      <td>90</td>\n",
       "      <td>7</td>\n",
       "      <td>0</td>\n",
       "      <td>NaN</td>\n",
       "      <td>NaN</td>\n",
       "      <td>1</td>\n",
       "      <td>23</td>\n",
       "    </tr>\n",
       "  </tbody>\n",
       "</table>\n",
       "</div>"
      ],
      "text/plain": [
       "             id                                               name   host_id  \\\n",
       "48890  36484665    Charming one bedroom - newly renovated rowhouse   8232441   \n",
       "48891  36485057      Affordable room in Bushwick/East Williamsburg   6570630   \n",
       "48892  36485431            Sunny Studio at Historical Neighborhood  23492952   \n",
       "48893  36485609               43rd St. Time Square-cozy single bed  30985759   \n",
       "48894  36487245  Trendy duplex in the very heart of Hell's Kitchen  68119814   \n",
       "\n",
       "           host_name neighbourhood_group       neighbourhood  latitude  \\\n",
       "48890        Sabrina            Brooklyn  Bedford-Stuyvesant     40.68   \n",
       "48891        Marisol            Brooklyn            Bushwick     40.70   \n",
       "48892  Ilgar & Aysel           Manhattan              Harlem     40.81   \n",
       "48893            Taz           Manhattan      Hell's Kitchen     40.76   \n",
       "48894     Christophe           Manhattan      Hell's Kitchen     40.76   \n",
       "\n",
       "       longitude        room_type  price  minimum_nights  number_of_reviews  \\\n",
       "48890     -73.95     Private room     70               2                  0   \n",
       "48891     -73.93     Private room     40               4                  0   \n",
       "48892     -73.95  Entire home/apt    115              10                  0   \n",
       "48893     -73.99      Shared room     55               1                  0   \n",
       "48894     -73.99     Private room     90               7                  0   \n",
       "\n",
       "      last_review  reviews_per_month  calculated_host_listings_count  \\\n",
       "48890         NaN                NaN                               2   \n",
       "48891         NaN                NaN                               2   \n",
       "48892         NaN                NaN                               1   \n",
       "48893         NaN                NaN                               6   \n",
       "48894         NaN                NaN                               1   \n",
       "\n",
       "       availability_365  \n",
       "48890                 9  \n",
       "48891                36  \n",
       "48892                27  \n",
       "48893                 2  \n",
       "48894                23  "
      ]
     },
     "execution_count": 3,
     "metadata": {},
     "output_type": "execute_result"
    }
   ],
   "source": [
    "data.tail()"
   ]
  },
  {
   "cell_type": "code",
   "execution_count": 4,
   "id": "382e04a2",
   "metadata": {},
   "outputs": [
    {
     "data": {
      "text/plain": [
       "(48895, 16)"
      ]
     },
     "execution_count": 4,
     "metadata": {},
     "output_type": "execute_result"
    }
   ],
   "source": [
    "data.shape"
   ]
  },
  {
   "cell_type": "markdown",
   "id": "b3aa724b",
   "metadata": {
    "heading_collapsed": true,
    "id": "b3aa724b"
   },
   "source": [
    "### Entendimento dos dados"
   ]
  },
  {
   "cell_type": "code",
   "execution_count": 5,
   "id": "07bb3021",
   "metadata": {
    "hidden": true,
    "id": "07bb3021"
   },
   "outputs": [
    {
     "data": {
      "text/plain": [
       "id                                  int64\n",
       "name                               object\n",
       "host_id                             int64\n",
       "host_name                          object\n",
       "neighbourhood_group                object\n",
       "neighbourhood                      object\n",
       "latitude                          float64\n",
       "longitude                         float64\n",
       "room_type                          object\n",
       "price                               int64\n",
       "minimum_nights                      int64\n",
       "number_of_reviews                   int64\n",
       "last_review                        object\n",
       "reviews_per_month                 float64\n",
       "calculated_host_listings_count      int64\n",
       "availability_365                    int64\n",
       "dtype: object"
      ]
     },
     "execution_count": 5,
     "metadata": {},
     "output_type": "execute_result"
    }
   ],
   "source": [
    "data.dtypes"
   ]
  },
  {
   "cell_type": "code",
   "execution_count": 6,
   "id": "230ef027",
   "metadata": {
    "hidden": true,
    "id": "230ef027"
   },
   "outputs": [
    {
     "name": "stdout",
     "output_type": "stream",
     "text": [
      "<class 'pandas.core.frame.DataFrame'>\n",
      "RangeIndex: 48895 entries, 0 to 48894\n",
      "Data columns (total 16 columns):\n",
      " #   Column                          Non-Null Count  Dtype  \n",
      "---  ------                          --------------  -----  \n",
      " 0   id                              48895 non-null  int64  \n",
      " 1   name                            48879 non-null  object \n",
      " 2   host_id                         48895 non-null  int64  \n",
      " 3   host_name                       48874 non-null  object \n",
      " 4   neighbourhood_group             48895 non-null  object \n",
      " 5   neighbourhood                   48895 non-null  object \n",
      " 6   latitude                        48895 non-null  float64\n",
      " 7   longitude                       48895 non-null  float64\n",
      " 8   room_type                       48895 non-null  object \n",
      " 9   price                           48895 non-null  int64  \n",
      " 10  minimum_nights                  48895 non-null  int64  \n",
      " 11  number_of_reviews               48895 non-null  int64  \n",
      " 12  last_review                     38843 non-null  object \n",
      " 13  reviews_per_month               38843 non-null  float64\n",
      " 14  calculated_host_listings_count  48895 non-null  int64  \n",
      " 15  availability_365                48895 non-null  int64  \n",
      "dtypes: float64(3), int64(7), object(6)\n",
      "memory usage: 6.0+ MB\n"
     ]
    }
   ],
   "source": [
    "data.info()"
   ]
  },
  {
   "cell_type": "markdown",
   "id": "48d0be4c",
   "metadata": {},
   "source": [
    "### Estatísticas Descritivas"
   ]
  },
  {
   "cell_type": "code",
   "execution_count": 7,
   "id": "7039383f",
   "metadata": {
    "hidden": true,
    "id": "7039383f"
   },
   "outputs": [],
   "source": [
    "data_num, data_cat = data.select_dtypes(include=['int64', 'float64']), data.select_dtypes(exclude=['int64', 'float64'])"
   ]
  },
  {
   "cell_type": "code",
   "execution_count": 8,
   "id": "3c2b85ba",
   "metadata": {},
   "outputs": [
    {
     "data": {
      "text/html": [
       "<div>\n",
       "<style scoped>\n",
       "    .dataframe tbody tr th:only-of-type {\n",
       "        vertical-align: middle;\n",
       "    }\n",
       "\n",
       "    .dataframe tbody tr th {\n",
       "        vertical-align: top;\n",
       "    }\n",
       "\n",
       "    .dataframe thead th {\n",
       "        text-align: right;\n",
       "    }\n",
       "</style>\n",
       "<table border=\"1\" class=\"dataframe\">\n",
       "  <thead>\n",
       "    <tr style=\"text-align: right;\">\n",
       "      <th></th>\n",
       "      <th>id</th>\n",
       "      <th>host_id</th>\n",
       "      <th>latitude</th>\n",
       "      <th>longitude</th>\n",
       "      <th>price</th>\n",
       "      <th>minimum_nights</th>\n",
       "      <th>number_of_reviews</th>\n",
       "      <th>reviews_per_month</th>\n",
       "      <th>calculated_host_listings_count</th>\n",
       "      <th>availability_365</th>\n",
       "    </tr>\n",
       "  </thead>\n",
       "  <tbody>\n",
       "    <tr>\n",
       "      <th>count</th>\n",
       "      <td>48895.00</td>\n",
       "      <td>48895.00</td>\n",
       "      <td>48895.00</td>\n",
       "      <td>48895.00</td>\n",
       "      <td>48895.00</td>\n",
       "      <td>48895.00</td>\n",
       "      <td>48895.00</td>\n",
       "      <td>38843.00</td>\n",
       "      <td>48895.00</td>\n",
       "      <td>48895.00</td>\n",
       "    </tr>\n",
       "    <tr>\n",
       "      <th>mean</th>\n",
       "      <td>19017143.24</td>\n",
       "      <td>67620010.65</td>\n",
       "      <td>40.73</td>\n",
       "      <td>-73.95</td>\n",
       "      <td>152.72</td>\n",
       "      <td>7.03</td>\n",
       "      <td>23.27</td>\n",
       "      <td>1.37</td>\n",
       "      <td>7.14</td>\n",
       "      <td>112.78</td>\n",
       "    </tr>\n",
       "    <tr>\n",
       "      <th>std</th>\n",
       "      <td>10983108.39</td>\n",
       "      <td>78610967.03</td>\n",
       "      <td>0.05</td>\n",
       "      <td>0.05</td>\n",
       "      <td>240.15</td>\n",
       "      <td>20.51</td>\n",
       "      <td>44.55</td>\n",
       "      <td>1.68</td>\n",
       "      <td>32.95</td>\n",
       "      <td>131.62</td>\n",
       "    </tr>\n",
       "    <tr>\n",
       "      <th>min</th>\n",
       "      <td>2539.00</td>\n",
       "      <td>2438.00</td>\n",
       "      <td>40.50</td>\n",
       "      <td>-74.24</td>\n",
       "      <td>0.00</td>\n",
       "      <td>1.00</td>\n",
       "      <td>0.00</td>\n",
       "      <td>0.01</td>\n",
       "      <td>1.00</td>\n",
       "      <td>0.00</td>\n",
       "    </tr>\n",
       "    <tr>\n",
       "      <th>25%</th>\n",
       "      <td>9471945.00</td>\n",
       "      <td>7822033.00</td>\n",
       "      <td>40.69</td>\n",
       "      <td>-73.98</td>\n",
       "      <td>69.00</td>\n",
       "      <td>1.00</td>\n",
       "      <td>1.00</td>\n",
       "      <td>0.19</td>\n",
       "      <td>1.00</td>\n",
       "      <td>0.00</td>\n",
       "    </tr>\n",
       "    <tr>\n",
       "      <th>50%</th>\n",
       "      <td>19677284.00</td>\n",
       "      <td>30793816.00</td>\n",
       "      <td>40.72</td>\n",
       "      <td>-73.96</td>\n",
       "      <td>106.00</td>\n",
       "      <td>3.00</td>\n",
       "      <td>5.00</td>\n",
       "      <td>0.72</td>\n",
       "      <td>1.00</td>\n",
       "      <td>45.00</td>\n",
       "    </tr>\n",
       "    <tr>\n",
       "      <th>75%</th>\n",
       "      <td>29152178.50</td>\n",
       "      <td>107434423.00</td>\n",
       "      <td>40.76</td>\n",
       "      <td>-73.94</td>\n",
       "      <td>175.00</td>\n",
       "      <td>5.00</td>\n",
       "      <td>24.00</td>\n",
       "      <td>2.02</td>\n",
       "      <td>2.00</td>\n",
       "      <td>227.00</td>\n",
       "    </tr>\n",
       "    <tr>\n",
       "      <th>max</th>\n",
       "      <td>36487245.00</td>\n",
       "      <td>274321313.00</td>\n",
       "      <td>40.91</td>\n",
       "      <td>-73.71</td>\n",
       "      <td>10000.00</td>\n",
       "      <td>1250.00</td>\n",
       "      <td>629.00</td>\n",
       "      <td>58.50</td>\n",
       "      <td>327.00</td>\n",
       "      <td>365.00</td>\n",
       "    </tr>\n",
       "  </tbody>\n",
       "</table>\n",
       "</div>"
      ],
      "text/plain": [
       "               id      host_id  latitude  longitude    price  minimum_nights  \\\n",
       "count    48895.00     48895.00  48895.00   48895.00 48895.00        48895.00   \n",
       "mean  19017143.24  67620010.65     40.73     -73.95   152.72            7.03   \n",
       "std   10983108.39  78610967.03      0.05       0.05   240.15           20.51   \n",
       "min       2539.00      2438.00     40.50     -74.24     0.00            1.00   \n",
       "25%    9471945.00   7822033.00     40.69     -73.98    69.00            1.00   \n",
       "50%   19677284.00  30793816.00     40.72     -73.96   106.00            3.00   \n",
       "75%   29152178.50 107434423.00     40.76     -73.94   175.00            5.00   \n",
       "max   36487245.00 274321313.00     40.91     -73.71 10000.00         1250.00   \n",
       "\n",
       "       number_of_reviews  reviews_per_month  calculated_host_listings_count  \\\n",
       "count           48895.00           38843.00                        48895.00   \n",
       "mean               23.27               1.37                            7.14   \n",
       "std                44.55               1.68                           32.95   \n",
       "min                 0.00               0.01                            1.00   \n",
       "25%                 1.00               0.19                            1.00   \n",
       "50%                 5.00               0.72                            1.00   \n",
       "75%                24.00               2.02                            2.00   \n",
       "max               629.00              58.50                          327.00   \n",
       "\n",
       "       availability_365  \n",
       "count          48895.00  \n",
       "mean             112.78  \n",
       "std              131.62  \n",
       "min                0.00  \n",
       "25%                0.00  \n",
       "50%               45.00  \n",
       "75%              227.00  \n",
       "max              365.00  "
      ]
     },
     "execution_count": 8,
     "metadata": {},
     "output_type": "execute_result"
    }
   ],
   "source": [
    "data_num.describe().round(2)"
   ]
  },
  {
   "cell_type": "code",
   "execution_count": 9,
   "id": "a6d57869",
   "metadata": {},
   "outputs": [
    {
     "data": {
      "text/html": [
       "<div>\n",
       "<style scoped>\n",
       "    .dataframe tbody tr th:only-of-type {\n",
       "        vertical-align: middle;\n",
       "    }\n",
       "\n",
       "    .dataframe tbody tr th {\n",
       "        vertical-align: top;\n",
       "    }\n",
       "\n",
       "    .dataframe thead th {\n",
       "        text-align: right;\n",
       "    }\n",
       "</style>\n",
       "<table border=\"1\" class=\"dataframe\">\n",
       "  <thead>\n",
       "    <tr style=\"text-align: right;\">\n",
       "      <th></th>\n",
       "      <th>name</th>\n",
       "      <th>host_name</th>\n",
       "      <th>neighbourhood_group</th>\n",
       "      <th>neighbourhood</th>\n",
       "      <th>room_type</th>\n",
       "      <th>last_review</th>\n",
       "    </tr>\n",
       "  </thead>\n",
       "  <tbody>\n",
       "    <tr>\n",
       "      <th>count</th>\n",
       "      <td>48879</td>\n",
       "      <td>48874</td>\n",
       "      <td>48895</td>\n",
       "      <td>48895</td>\n",
       "      <td>48895</td>\n",
       "      <td>38843</td>\n",
       "    </tr>\n",
       "    <tr>\n",
       "      <th>unique</th>\n",
       "      <td>47905</td>\n",
       "      <td>11452</td>\n",
       "      <td>5</td>\n",
       "      <td>221</td>\n",
       "      <td>3</td>\n",
       "      <td>1764</td>\n",
       "    </tr>\n",
       "    <tr>\n",
       "      <th>top</th>\n",
       "      <td>Hillside Hotel</td>\n",
       "      <td>Michael</td>\n",
       "      <td>Manhattan</td>\n",
       "      <td>Williamsburg</td>\n",
       "      <td>Entire home/apt</td>\n",
       "      <td>2019-06-23</td>\n",
       "    </tr>\n",
       "    <tr>\n",
       "      <th>freq</th>\n",
       "      <td>18</td>\n",
       "      <td>417</td>\n",
       "      <td>21661</td>\n",
       "      <td>3920</td>\n",
       "      <td>25409</td>\n",
       "      <td>1413</td>\n",
       "    </tr>\n",
       "  </tbody>\n",
       "</table>\n",
       "</div>"
      ],
      "text/plain": [
       "                  name host_name neighbourhood_group neighbourhood  \\\n",
       "count            48879     48874               48895         48895   \n",
       "unique           47905     11452                   5           221   \n",
       "top     Hillside Hotel   Michael           Manhattan  Williamsburg   \n",
       "freq                18       417               21661          3920   \n",
       "\n",
       "              room_type last_review  \n",
       "count             48895       38843  \n",
       "unique                3        1764  \n",
       "top     Entire home/apt  2019-06-23  \n",
       "freq              25409        1413  "
      ]
     },
     "execution_count": 9,
     "metadata": {},
     "output_type": "execute_result"
    }
   ],
   "source": [
    "data_cat.describe().round(2)"
   ]
  },
  {
   "cell_type": "markdown",
   "id": "02c255ba",
   "metadata": {},
   "source": [
    "### Tratamento dos Tipos de Dados"
   ]
  },
  {
   "cell_type": "code",
   "execution_count": 10,
   "id": "b124ad6c",
   "metadata": {},
   "outputs": [],
   "source": [
    "data['last_review'] = pd.to_datetime(data['last_review'])"
   ]
  },
  {
   "cell_type": "code",
   "execution_count": 11,
   "id": "a72542ce",
   "metadata": {},
   "outputs": [
    {
     "data": {
      "text/plain": [
       "dtype('<M8[ns]')"
      ]
     },
     "execution_count": 11,
     "metadata": {},
     "output_type": "execute_result"
    }
   ],
   "source": [
    "data['last_review'].dtype"
   ]
  },
  {
   "cell_type": "markdown",
   "id": "ec656f3e",
   "metadata": {
    "heading_collapsed": true,
    "id": "ec656f3e"
   },
   "source": [
    "### Tratamento dos Dados Faltantes"
   ]
  },
  {
   "cell_type": "code",
   "execution_count": 12,
   "id": "9f41d04f",
   "metadata": {
    "hidden": true,
    "id": "9f41d04f"
   },
   "outputs": [
    {
     "data": {
      "text/plain": [
       "id                                    0\n",
       "name                                 16\n",
       "host_id                               0\n",
       "host_name                            21\n",
       "neighbourhood_group                   0\n",
       "neighbourhood                         0\n",
       "latitude                              0\n",
       "longitude                             0\n",
       "room_type                             0\n",
       "price                                 0\n",
       "minimum_nights                        0\n",
       "number_of_reviews                     0\n",
       "last_review                       10052\n",
       "reviews_per_month                 10052\n",
       "calculated_host_listings_count        0\n",
       "availability_365                      0\n",
       "dtype: int64"
      ]
     },
     "execution_count": 12,
     "metadata": {},
     "output_type": "execute_result"
    }
   ],
   "source": [
    "data.isna().sum()"
   ]
  },
  {
   "cell_type": "markdown",
   "id": "755be83a",
   "metadata": {},
   "source": [
    "Tratando valores nulos da coluna `name`"
   ]
  },
  {
   "cell_type": "code",
   "execution_count": 13,
   "id": "6e5938f0",
   "metadata": {
    "hidden": true,
    "id": "6e5938f0"
   },
   "outputs": [],
   "source": [
    "data['name'].fillna('Nameless', inplace=True)"
   ]
  },
  {
   "cell_type": "code",
   "execution_count": 14,
   "id": "19033bf9",
   "metadata": {},
   "outputs": [
    {
     "data": {
      "text/plain": [
       "0"
      ]
     },
     "execution_count": 14,
     "metadata": {},
     "output_type": "execute_result"
    }
   ],
   "source": [
    "data['name'].isna().sum()"
   ]
  },
  {
   "cell_type": "markdown",
   "id": "0aa9c09c",
   "metadata": {
    "hidden": true,
    "id": "0aa9c09c"
   },
   "source": [
    "Tratando valores nulos da coluna `host_name`"
   ]
  },
  {
   "cell_type": "code",
   "execution_count": 15,
   "id": "fc1fa033",
   "metadata": {},
   "outputs": [],
   "source": [
    "host_ids = data.loc[data['host_name'].isna()].host_id.unique()"
   ]
  },
  {
   "cell_type": "code",
   "execution_count": 16,
   "id": "b30307f7",
   "metadata": {},
   "outputs": [
    {
     "data": {
      "text/plain": [
       "host_id\n",
       "415290       0\n",
       "526653       0\n",
       "919218       0\n",
       "5162530      0\n",
       "5300585      0\n",
       "7779204      0\n",
       "7822683      0\n",
       "23077718     0\n",
       "24576978     0\n",
       "26138712     0\n",
       "32722063     0\n",
       "33134899     0\n",
       "39608626     0\n",
       "100971588    0\n",
       "119609345    0\n",
       "159156636    0\n",
       "177146433    0\n",
       "228750026    0\n",
       "Name: host_name, dtype: int64"
      ]
     },
     "execution_count": 16,
     "metadata": {},
     "output_type": "execute_result"
    }
   ],
   "source": [
    "data.loc[data['host_id'].isin(host_ids)].groupby('host_id').host_name.count()"
   ]
  },
  {
   "cell_type": "code",
   "execution_count": 17,
   "id": "2ed61a1c",
   "metadata": {},
   "outputs": [],
   "source": [
    "data['host_name'].fillna(data['host_id'], inplace=True)"
   ]
  },
  {
   "cell_type": "code",
   "execution_count": 18,
   "id": "1182e3e4",
   "metadata": {},
   "outputs": [
    {
     "data": {
      "text/plain": [
       "0"
      ]
     },
     "execution_count": 18,
     "metadata": {},
     "output_type": "execute_result"
    }
   ],
   "source": [
    "data['host_name'].isna().sum()"
   ]
  },
  {
   "cell_type": "markdown",
   "id": "284514b6",
   "metadata": {},
   "source": [
    "Tratando valores nulos da coluna `last_review`"
   ]
  },
  {
   "cell_type": "code",
   "execution_count": 19,
   "id": "70fcd398",
   "metadata": {},
   "outputs": [
    {
     "data": {
      "text/plain": [
       "Timestamp('2019-07-08 00:00:00')"
      ]
     },
     "execution_count": 19,
     "metadata": {},
     "output_type": "execute_result"
    }
   ],
   "source": [
    "data['last_review'].max()"
   ]
  },
  {
   "cell_type": "code",
   "execution_count": 20,
   "id": "44850012",
   "metadata": {},
   "outputs": [
    {
     "data": {
      "text/plain": [
       "Timestamp('2011-03-28 00:00:00')"
      ]
     },
     "execution_count": 20,
     "metadata": {},
     "output_type": "execute_result"
    }
   ],
   "source": [
    "data['last_review'].min()"
   ]
  },
  {
   "cell_type": "markdown",
   "id": "750bf4c8",
   "metadata": {},
   "source": [
    "Resolvi preencher imóveis sem reviews com o valor de '01-01-1970', uma data muito discrepante que servirá como uma flag indicando que ali é um valor incorreto."
   ]
  },
  {
   "cell_type": "code",
   "execution_count": 21,
   "id": "e00df4e6",
   "metadata": {},
   "outputs": [],
   "source": [
    "data['last_review'].fillna(pd.Timestamp('19700101'), inplace=True)"
   ]
  },
  {
   "cell_type": "markdown",
   "id": "ce371d66",
   "metadata": {},
   "source": [
    "Tratando valores nulos da coluna `reviews_per_month`"
   ]
  },
  {
   "cell_type": "code",
   "execution_count": 22,
   "id": "f6c6fb4c",
   "metadata": {},
   "outputs": [],
   "source": [
    "data['reviews_per_month'].fillna(0, inplace=True)"
   ]
  },
  {
   "cell_type": "code",
   "execution_count": 23,
   "id": "1e43f294",
   "metadata": {},
   "outputs": [
    {
     "data": {
      "text/plain": [
       "0"
      ]
     },
     "execution_count": 23,
     "metadata": {},
     "output_type": "execute_result"
    }
   ],
   "source": [
    "data['reviews_per_month'].isna().sum()"
   ]
  },
  {
   "cell_type": "markdown",
   "id": "987cfbaa",
   "metadata": {},
   "source": [
    "Checando novamente por valores nulos para ver se não existem mais valores nulos."
   ]
  },
  {
   "cell_type": "code",
   "execution_count": 24,
   "id": "4ca3914d",
   "metadata": {},
   "outputs": [
    {
     "data": {
      "text/plain": [
       "0"
      ]
     },
     "execution_count": 24,
     "metadata": {},
     "output_type": "execute_result"
    }
   ],
   "source": [
    "data.isna().sum().sum()"
   ]
  },
  {
   "cell_type": "markdown",
   "id": "cbd562d7",
   "metadata": {},
   "source": [
    "### Valores Duplicados"
   ]
  },
  {
   "cell_type": "code",
   "execution_count": 25,
   "id": "39620577",
   "metadata": {},
   "outputs": [
    {
     "data": {
      "text/plain": [
       "243"
      ]
     },
     "execution_count": 25,
     "metadata": {},
     "output_type": "execute_result"
    }
   ],
   "source": [
    "data.duplicated(subset=['name', 'host_id']).sum()"
   ]
  },
  {
   "cell_type": "code",
   "execution_count": 26,
   "id": "06515593",
   "metadata": {},
   "outputs": [],
   "source": [
    "duplicated_df = data.loc[data.duplicated(subset=['host_id', 'name'], keep='first')]"
   ]
  },
  {
   "cell_type": "code",
   "execution_count": 27,
   "id": "b048bec5",
   "metadata": {},
   "outputs": [
    {
     "data": {
      "text/html": [
       "<div>\n",
       "<style scoped>\n",
       "    .dataframe tbody tr th:only-of-type {\n",
       "        vertical-align: middle;\n",
       "    }\n",
       "\n",
       "    .dataframe tbody tr th {\n",
       "        vertical-align: top;\n",
       "    }\n",
       "\n",
       "    .dataframe thead th {\n",
       "        text-align: right;\n",
       "    }\n",
       "</style>\n",
       "<table border=\"1\" class=\"dataframe\">\n",
       "  <thead>\n",
       "    <tr style=\"text-align: right;\">\n",
       "      <th></th>\n",
       "      <th>id</th>\n",
       "      <th>name</th>\n",
       "      <th>host_id</th>\n",
       "      <th>host_name</th>\n",
       "      <th>neighbourhood_group</th>\n",
       "      <th>neighbourhood</th>\n",
       "      <th>latitude</th>\n",
       "      <th>longitude</th>\n",
       "      <th>room_type</th>\n",
       "      <th>price</th>\n",
       "      <th>minimum_nights</th>\n",
       "      <th>number_of_reviews</th>\n",
       "      <th>last_review</th>\n",
       "      <th>reviews_per_month</th>\n",
       "      <th>calculated_host_listings_count</th>\n",
       "      <th>availability_365</th>\n",
       "    </tr>\n",
       "  </thead>\n",
       "  <tbody>\n",
       "    <tr>\n",
       "      <th>330</th>\n",
       "      <td>81739</td>\n",
       "      <td>Loft w/ Terrace @ Box House Hotel</td>\n",
       "      <td>417504</td>\n",
       "      <td>The Box House Hotel</td>\n",
       "      <td>Brooklyn</td>\n",
       "      <td>Greenpoint</td>\n",
       "      <td>40.74</td>\n",
       "      <td>-73.95</td>\n",
       "      <td>Private room</td>\n",
       "      <td>249</td>\n",
       "      <td>3</td>\n",
       "      <td>2</td>\n",
       "      <td>2011-05-12</td>\n",
       "      <td>0.02</td>\n",
       "      <td>28</td>\n",
       "      <td>60</td>\n",
       "    </tr>\n",
       "    <tr>\n",
       "      <th>680</th>\n",
       "      <td>253839</td>\n",
       "      <td>Loft w/ Terrace @ Box House Hotel</td>\n",
       "      <td>417504</td>\n",
       "      <td>The Box House Hotel</td>\n",
       "      <td>Brooklyn</td>\n",
       "      <td>Greenpoint</td>\n",
       "      <td>40.74</td>\n",
       "      <td>-73.95</td>\n",
       "      <td>Private room</td>\n",
       "      <td>249</td>\n",
       "      <td>3</td>\n",
       "      <td>3</td>\n",
       "      <td>2015-11-03</td>\n",
       "      <td>0.03</td>\n",
       "      <td>28</td>\n",
       "      <td>60</td>\n",
       "    </tr>\n",
       "  </tbody>\n",
       "</table>\n",
       "</div>"
      ],
      "text/plain": [
       "         id                               name  host_id            host_name  \\\n",
       "330   81739  Loft w/ Terrace @ Box House Hotel   417504  The Box House Hotel   \n",
       "680  253839  Loft w/ Terrace @ Box House Hotel   417504  The Box House Hotel   \n",
       "\n",
       "    neighbourhood_group neighbourhood  latitude  longitude     room_type  \\\n",
       "330            Brooklyn    Greenpoint     40.74     -73.95  Private room   \n",
       "680            Brooklyn    Greenpoint     40.74     -73.95  Private room   \n",
       "\n",
       "     price  minimum_nights  number_of_reviews last_review  reviews_per_month  \\\n",
       "330    249               3                  2  2011-05-12               0.02   \n",
       "680    249               3                  3  2015-11-03               0.03   \n",
       "\n",
       "     calculated_host_listings_count  availability_365  \n",
       "330                              28                60  \n",
       "680                              28                60  "
      ]
     },
     "execution_count": 27,
     "metadata": {},
     "output_type": "execute_result"
    }
   ],
   "source": [
    "duplicated_df.loc[duplicated_df['name'] == 'Loft w/ Terrace @ Box House Hotel']"
   ]
  },
  {
   "cell_type": "markdown",
   "id": "bca40d86",
   "metadata": {},
   "source": [
    "Aqui notamos 3 entradas que são do mesmo host e imóvel, mas de anúncios publicados em datas diferentes, inclusive com variação de preço da diária. Irei manter somente as entradas mais recentes baseado naqueles que possuirem o `id` maior."
   ]
  },
  {
   "cell_type": "code",
   "execution_count": 28,
   "id": "e04411a1",
   "metadata": {},
   "outputs": [
    {
     "data": {
      "text/html": [
       "<div>\n",
       "<style scoped>\n",
       "    .dataframe tbody tr th:only-of-type {\n",
       "        vertical-align: middle;\n",
       "    }\n",
       "\n",
       "    .dataframe tbody tr th {\n",
       "        vertical-align: top;\n",
       "    }\n",
       "\n",
       "    .dataframe thead th {\n",
       "        text-align: right;\n",
       "    }\n",
       "</style>\n",
       "<table border=\"1\" class=\"dataframe\">\n",
       "  <thead>\n",
       "    <tr style=\"text-align: right;\">\n",
       "      <th></th>\n",
       "      <th>id</th>\n",
       "      <th>name</th>\n",
       "      <th>host_id</th>\n",
       "      <th>host_name</th>\n",
       "      <th>neighbourhood_group</th>\n",
       "      <th>neighbourhood</th>\n",
       "      <th>latitude</th>\n",
       "      <th>longitude</th>\n",
       "      <th>room_type</th>\n",
       "      <th>price</th>\n",
       "      <th>minimum_nights</th>\n",
       "      <th>number_of_reviews</th>\n",
       "      <th>last_review</th>\n",
       "      <th>reviews_per_month</th>\n",
       "      <th>calculated_host_listings_count</th>\n",
       "      <th>availability_365</th>\n",
       "    </tr>\n",
       "  </thead>\n",
       "  <tbody>\n",
       "    <tr>\n",
       "      <th>328</th>\n",
       "      <td>80700</td>\n",
       "      <td>Loft w/ Terrace @ Box House Hotel</td>\n",
       "      <td>417504</td>\n",
       "      <td>The Box House Hotel</td>\n",
       "      <td>Brooklyn</td>\n",
       "      <td>Greenpoint</td>\n",
       "      <td>40.74</td>\n",
       "      <td>-73.95</td>\n",
       "      <td>Private room</td>\n",
       "      <td>349</td>\n",
       "      <td>3</td>\n",
       "      <td>7</td>\n",
       "      <td>2019-05-24</td>\n",
       "      <td>0.07</td>\n",
       "      <td>28</td>\n",
       "      <td>60</td>\n",
       "    </tr>\n",
       "    <tr>\n",
       "      <th>330</th>\n",
       "      <td>81739</td>\n",
       "      <td>Loft w/ Terrace @ Box House Hotel</td>\n",
       "      <td>417504</td>\n",
       "      <td>The Box House Hotel</td>\n",
       "      <td>Brooklyn</td>\n",
       "      <td>Greenpoint</td>\n",
       "      <td>40.74</td>\n",
       "      <td>-73.95</td>\n",
       "      <td>Private room</td>\n",
       "      <td>249</td>\n",
       "      <td>3</td>\n",
       "      <td>2</td>\n",
       "      <td>2011-05-12</td>\n",
       "      <td>0.02</td>\n",
       "      <td>28</td>\n",
       "      <td>60</td>\n",
       "    </tr>\n",
       "    <tr>\n",
       "      <th>680</th>\n",
       "      <td>253839</td>\n",
       "      <td>Loft w/ Terrace @ Box House Hotel</td>\n",
       "      <td>417504</td>\n",
       "      <td>The Box House Hotel</td>\n",
       "      <td>Brooklyn</td>\n",
       "      <td>Greenpoint</td>\n",
       "      <td>40.74</td>\n",
       "      <td>-73.95</td>\n",
       "      <td>Private room</td>\n",
       "      <td>249</td>\n",
       "      <td>3</td>\n",
       "      <td>3</td>\n",
       "      <td>2015-11-03</td>\n",
       "      <td>0.03</td>\n",
       "      <td>28</td>\n",
       "      <td>60</td>\n",
       "    </tr>\n",
       "  </tbody>\n",
       "</table>\n",
       "</div>"
      ],
      "text/plain": [
       "         id                               name  host_id            host_name  \\\n",
       "328   80700  Loft w/ Terrace @ Box House Hotel   417504  The Box House Hotel   \n",
       "330   81739  Loft w/ Terrace @ Box House Hotel   417504  The Box House Hotel   \n",
       "680  253839  Loft w/ Terrace @ Box House Hotel   417504  The Box House Hotel   \n",
       "\n",
       "    neighbourhood_group neighbourhood  latitude  longitude     room_type  \\\n",
       "328            Brooklyn    Greenpoint     40.74     -73.95  Private room   \n",
       "330            Brooklyn    Greenpoint     40.74     -73.95  Private room   \n",
       "680            Brooklyn    Greenpoint     40.74     -73.95  Private room   \n",
       "\n",
       "     price  minimum_nights  number_of_reviews last_review  reviews_per_month  \\\n",
       "328    349               3                  7  2019-05-24               0.07   \n",
       "330    249               3                  2  2011-05-12               0.02   \n",
       "680    249               3                  3  2015-11-03               0.03   \n",
       "\n",
       "     calculated_host_listings_count  availability_365  \n",
       "328                              28                60  \n",
       "330                              28                60  \n",
       "680                              28                60  "
      ]
     },
     "execution_count": 28,
     "metadata": {},
     "output_type": "execute_result"
    }
   ],
   "source": [
    "data.loc[data['name'] == 'Loft w/ Terrace @ Box House Hotel']"
   ]
  },
  {
   "cell_type": "code",
   "execution_count": 29,
   "id": "36213227",
   "metadata": {},
   "outputs": [],
   "source": [
    "data.drop_duplicates(subset=['name', 'host_id'], keep='last', inplace=True)"
   ]
  },
  {
   "cell_type": "code",
   "execution_count": 30,
   "id": "95cb43e0",
   "metadata": {},
   "outputs": [
    {
     "data": {
      "text/plain": [
       "0"
      ]
     },
     "execution_count": 30,
     "metadata": {},
     "output_type": "execute_result"
    }
   ],
   "source": [
    "data.duplicated(subset=['name', 'host_id']).sum()"
   ]
  },
  {
   "cell_type": "markdown",
   "id": "2d9982a6",
   "metadata": {},
   "source": [
    "# 2) Análise Exploratória dos Dados"
   ]
  },
  {
   "cell_type": "markdown",
   "id": "457887b6",
   "metadata": {
    "heading_collapsed": true,
    "id": "457887b6"
   },
   "source": [
    "### Levantamento de Hipóteses"
   ]
  },
  {
   "cell_type": "markdown",
   "id": "6b894e90",
   "metadata": {
    "hidden": true,
    "id": "6b894e90"
   },
   "source": [
    "Uma hipótese geralmente é um comportamento conhecido ou não conhecido do negócio que checamos a sua validade com os dados. É através do levantamento de hipóteses que conseguimos gerar insights valiosos para os outros times. Lembrando que um insight é uma informação acionável e que ou gera surpresa por ser desconhecida, ou quebra algum paradigma com relação ao comportamento de negócios.\n",
    "\n",
    "Existem algumas técnicas de levantamento de hipóteses. A mais simples delas, que será a que utilizaremos nesse desafio, é nos colocarmos no lugar do \"dono da empresa\" e nos perguntar situações que temos como certas ou que temos como dúvida. Por exemplo:\n",
    "\n",
    "**Hipótese 1:** Os aluguéis mais caros da cidade de Nova York estão nas regiões ao entorno do Central Park.\n",
    "\n",
    "Crie 5 hipóteses para te ajudar a explorar melhor a nossa base de dados:"
   ]
  },
  {
   "cell_type": "markdown",
   "id": "39e245b5",
   "metadata": {
    "ExecuteTime": {
     "end_time": "2022-04-27T12:50:51.849307Z",
     "start_time": "2022-04-27T12:50:51.836035Z"
    },
    "hidden": true,
    "id": "39e245b5"
   },
   "source": [
    "**Regiões de Nova York**"
   ]
  },
  {
   "cell_type": "code",
   "execution_count": 41,
   "id": "ec3de246",
   "metadata": {
    "ExecuteTime": {
     "end_time": "2022-04-27T18:41:22.689744Z",
     "start_time": "2022-04-27T18:41:22.684735Z"
    },
    "hidden": true,
    "hide_input": true,
    "id": "ec3de246",
    "outputId": "6159ab86-87b0-44e5-eb71-d0711503c19e"
   },
   "outputs": [
    {
     "data": {
      "image/jpeg": "[encoded data removed]",
      "text/plain": [
       "<IPython.core.display.Image object>"
      ]
     },
     "execution_count": 41,
     "metadata": {},
     "output_type": "execute_result"
    }
   ],
   "source": [
    "Image('output.jpeg')"
   ]
  },
  {
   "cell_type": "markdown",
   "id": "c5a23d49",
   "metadata": {
    "id": "c5a23d49"
   },
   "source": [
    "### Exploração dos Dados"
   ]
  },
  {
   "cell_type": "markdown",
   "id": "2da8b03d",
   "metadata": {
    "heading_collapsed": true,
    "id": "2da8b03d"
   },
   "source": [
    "#### Testando as Hipóteses"
   ]
  },
  {
   "cell_type": "markdown",
   "id": "91f5f129",
   "metadata": {},
   "source": [
    "##### Hipótese 0.1: Imóveis que são alugados por inteiro possuem o valor do aluguel mais caro?"
   ]
  },
  {
   "cell_type": "code",
   "execution_count": 56,
   "id": "05913e5f",
   "metadata": {},
   "outputs": [
    {
     "data": {
      "image/png": "[encoded data removed]",
      "text/plain": [
       "<Figure size 864x432 with 1 Axes>"
      ]
     },
     "metadata": {},
     "output_type": "display_data"
    }
   ],
   "source": [
    "df_room_type = data.groupby('room_type').agg({'price': 'mean'})\n",
    "\n",
    "fig, ax = plt.subplots(figsize=(12, 6))\n",
    "\n",
    "ax.bar(df_room_type.index, df_room_type['price'])\n",
    "ax.set_title('Preço médio da diária X Tipo de Dormitório', fontsize=16)\n",
    "ax.set_xlabel('Tipo de Dormitório')\n",
    "ax.set_ylabel('Preço médio da diária (USD)')\n",
    "\n",
    "plt.show()"
   ]
  },
  {
   "cell_type": "markdown",
   "id": "6819ab82",
   "metadata": {},
   "source": [
    "**VERDADEIRO**: Imóveis que são alugados por inteiro são cerca de 2.2x mais caros do que os outros na média."
   ]
  },
  {
   "cell_type": "markdown",
   "id": "91f5f129",
   "metadata": {},
   "source": [
    "##### Hipótese 0.2: A região de “Manhattan” possui, na média, aluguéis mais caros que as outras regiões?"
   ]
  },
  {
   "cell_type": "code",
   "execution_count": 50,
   "id": "87a1d152",
   "metadata": {},
   "outputs": [],
   "source": [
    "mean_price_man = data.loc[data['neighbourhood_group'] == 'Manhattan'].price.mean()\n",
    "mean_price_else = data.loc[~(data['neighbourhood_group'] == 'Manhattan')].price.mean()"
   ]
  },
  {
   "cell_type": "code",
   "execution_count": 59,
   "id": "df0ab428",
   "metadata": {},
   "outputs": [
    {
     "data": {
      "image/png": "[encoded data removed]",
      "text/plain": [
       "<Figure size 864x432 with 1 Axes>"
      ]
     },
     "metadata": {},
     "output_type": "display_data"
    }
   ],
   "source": [
    "fig, ax = plt.subplots(figsize=(12, 6))\n",
    "\n",
    "ax.bar([\"Região de Manhattan\", \"Outras Regiões\"], [mean_price_man, mean_price_else])\n",
    "ax.set_title('Preço médio da diária nas regiões de Nova York', fontsize=16)\n",
    "ax.set_xlabel('Região de Nova York')\n",
    "ax.set_ylabel('Preço médio da diária (USD)')\n",
    "plt.show()"
   ]
  },
  {
   "cell_type": "markdown",
   "id": "ae35076e",
   "metadata": {
    "heading_collapsed": true,
    "hidden": true,
    "id": "ae35076e"
   },
   "source": [
    "##### Hipótese 1: Os aluguéis mais caros da cidade de Nova York estão nas regiões ao entorno do Central Park."
   ]
  },
  {
   "cell_type": "code",
   "execution_count": 98,
   "id": "80386cea",
   "metadata": {},
   "outputs": [],
   "source": [
    "top_neighbourhoods_by_price = data[['neighbourhood_group', 'price']].groupby('neighbourhood_group').mean().sort_values(by='price', ascending=False)[:10]"
   ]
  },
  {
   "cell_type": "code",
   "execution_count": 99,
   "id": "ea7f0230",
   "metadata": {},
   "outputs": [
    {
     "name": "stderr",
     "output_type": "stream",
     "text": [
      "/tmp/ipykernel_4493/2738348081.py:4: UserWarning: FixedFormatter should only be used together with FixedLocator\n",
      "  ax.set_xticklabels(top10_neighbourhood_by_price.index, rotation=90)\n"
     ]
    },
    {
     "data": {
      "image/png": "[encoded data removed]",
      "text/plain": [
       "<Figure size 864x432 with 1 Axes>"
      ]
     },
     "metadata": {},
     "output_type": "display_data"
    }
   ],
   "source": [
    "fig, ax = plt.subplots(figsize=(12, 6))\n",
    "\n",
    "ax.bar(top_neighbourhoods_by_price.index, top_neighbourhoods_by_price.price)\n",
    "ax.set_xticklabels(top_neighbourhoods_by_price.index, rotation=90)\n",
    "\n",
    "plt.show()"
   ]
  },
  {
   "cell_type": "markdown",
   "id": "8906e9b3",
   "metadata": {
    "heading_collapsed": true,
    "hidden": true,
    "id": "8906e9b3"
   },
   "source": [
    "##### Hipótese 2: Apenas 30% dos neighbourhoods mais caros são de Manhattan."
   ]
  },
  {
   "cell_type": "code",
   "execution_count": 175,
   "id": "9d7d859e",
   "metadata": {
    "hidden": true,
    "id": "9d7d859e"
   },
   "outputs": [],
   "source": [
    "h2_df = data.groupby(\"neighbourhood\").agg({\"price\": \"mean\"}).sort_values(by=\"price\", ascending=False)[:10]"
   ]
  },
  {
   "cell_type": "code",
   "execution_count": 182,
   "id": "c48b2029",
   "metadata": {
    "hidden": true,
    "id": "c48b2029"
   },
   "outputs": [
    {
     "data": {
      "image/png": "[encoded data removed]",
      "text/plain": [
       "<Figure size 864x432 with 1 Axes>"
      ]
     },
     "metadata": {},
     "output_type": "display_data"
    }
   ],
   "source": [
    "fig, ax = plt.subplots(figsize=(12, 6))\n",
    "\n",
    "g = sns.barplot(x=h2_df.index, y=h2_df.price)\n",
    "g.set(title=\"Top 10 Bairros com a diária mais cara de Nova York\", xlabel=\"Bairro de Nova York\", \\\n",
    "    ylabel=\"Preço médio da diária (USD)\")\n",
    "plt.xticks(rotation=45)\n",
    "\n",
    "plt.show()"
   ]
  },
  {
   "cell_type": "markdown",
   "id": "6a910dee",
   "metadata": {
    "heading_collapsed": true,
    "hidden": true,
    "id": "6a910dee"
   },
   "source": [
    "##### Hipótese 3: A quantidade de noites mínimas de imóveis na região de Manhattan é maior, em média, 2 noites do que imóveis em outras regiões?"
   ]
  },
  {
   "cell_type": "code",
   "execution_count": 120,
   "id": "bc9d6950",
   "metadata": {
    "hidden": true,
    "id": "bc9d6950"
   },
   "outputs": [],
   "source": [
    "h3_m1 = data.loc[data['neighbourhood_group'] == 'Manhattan'].minimum_nights.mean()\n",
    "h3_m2 = data.loc[data['neighbourhood_group'] != 'Manhattan'].minimum_nights.mean()"
   ]
  },
  {
   "cell_type": "code",
   "execution_count": 123,
   "id": "e5cfa650",
   "metadata": {
    "hidden": true,
    "id": "e5cfa650"
   },
   "outputs": [
    {
     "data": {
      "image/png": "[encoded data removed]",
      "text/plain": [
       "<Figure size 864x432 with 1 Axes>"
      ]
     },
     "metadata": {},
     "output_type": "display_data"
    }
   ],
   "source": [
    "fig, ax = plt.subplots(figsize=(12, 6))\n",
    "\n",
    "ax.bar([\"Região de Manhattan\", \"Outras Regiões\"], [h3_m1, h3_m2])\n",
    "ax.set_title('Média de noites mínimas requeridas por Locatários por Região', fontsize=16)\n",
    "ax.set_xlabel('Região de Nova York')\n",
    "ax.set_ylabel('Média de noites mínimas requeridas por Locatários')\n",
    "plt.show()"
   ]
  },
  {
   "cell_type": "markdown",
   "id": "28adc720",
   "metadata": {
    "heading_collapsed": true,
    "hidden": true,
    "id": "28adc720"
   },
   "source": [
    "##### Hipótese 4: O número de reviews por month tende a diminuir conforme o valor de locação do imóvel aumenta."
   ]
  },
  {
   "cell_type": "code",
   "execution_count": 140,
   "id": "24191a93",
   "metadata": {
    "hidden": true,
    "id": "24191a93"
   },
   "outputs": [
    {
     "data": {
      "image/png": "[encoded data removed]",
      "text/plain": [
       "<Figure size 864x432 with 1 Axes>"
      ]
     },
     "metadata": {},
     "output_type": "display_data"
    }
   ],
   "source": [
    "plt.rcParams['figure.figsize'] = (12, 6)\n",
    "g = sns.regplot(data=data, x='price', y='reviews_per_month');\n",
    "g.set(title=\"Número de reviews por Mês X Preço da Diária\", ylabel=\"Qtd de reviews por Mẽs\", xlabel=\"Preço da diária (USD)\");"
   ]
  },
  {
   "cell_type": "markdown",
   "id": "1d0e3007",
   "metadata": {
    "heading_collapsed": true,
    "hidden": true,
    "id": "1d0e3007"
   },
   "source": [
    "##### Hipótese 5: O preço médio da diária de locação tende a aumentar em cerca de 5%, em média, para cada dia a mais de noites mínimas adicionais requeridas."
   ]
  },
  {
   "cell_type": "code",
   "execution_count": 147,
   "id": "849442ac",
   "metadata": {
    "hidden": true,
    "id": "849442ac"
   },
   "outputs": [],
   "source": [
    "h5_df = data.groupby('minimum_nights').agg({'price': 'mean'}).reset_index()"
   ]
  },
  {
   "cell_type": "code",
   "execution_count": 169,
   "id": "41f421a0",
   "metadata": {},
   "outputs": [
    {
     "data": {
      "image/png": "[encoded data removed]",
      "text/plain": [
       "<Figure size 864x432 with 1 Axes>"
      ]
     },
     "metadata": {},
     "output_type": "display_data"
    }
   ],
   "source": [
    "fig, ax = plt.subplots(figsize=(12, 6))\n",
    "\n",
    "ax.plot(h5_df.index, h5_df.price)\n",
    "ax.set_title(\"Preço médio da diária por Quantidade mínima de noites\", fontsize=16)\n",
    "ax.set_xlabel(\"Quantidade de noites mínimas obrigatórias\")\n",
    "ax.set_ylabel(\"Preço médio da diária (USD)\")\n",
    "\n",
    "plt.show()"
   ]
  },
  {
   "cell_type": "markdown",
   "id": "c10ee88a",
   "metadata": {
    "id": "c10ee88a"
   },
   "source": [
    "#### Respondendo as Perguntas do Investidor"
   ]
  },
  {
   "cell_type": "markdown",
   "id": "9e8c1898",
   "metadata": {
    "heading_collapsed": true,
    "id": "9e8c1898"
   },
   "source": [
    "##### 1. Qual o `id` do imóvel com o aluguel (diária) mais caro da base de dados?"
   ]
  },
  {
   "cell_type": "code",
   "execution_count": null,
   "id": "997412b7",
   "metadata": {
    "hidden": true,
    "id": "997412b7"
   },
   "outputs": [],
   "source": []
  },
  {
   "cell_type": "code",
   "execution_count": null,
   "id": "695ce607",
   "metadata": {
    "hidden": true,
    "id": "695ce607"
   },
   "outputs": [],
   "source": []
  },
  {
   "cell_type": "code",
   "execution_count": null,
   "id": "32b036bf",
   "metadata": {
    "hidden": true,
    "id": "32b036bf"
   },
   "outputs": [],
   "source": []
  },
  {
   "cell_type": "markdown",
   "id": "9ebd9552",
   "metadata": {
    "heading_collapsed": true,
    "id": "9ebd9552"
   },
   "source": [
    "##### 2. Qual o `id` do imóvel com o aluguel (diária) mais barato da base de dados?"
   ]
  },
  {
   "cell_type": "code",
   "execution_count": null,
   "id": "079f9c1e",
   "metadata": {
    "hidden": true,
    "id": "079f9c1e"
   },
   "outputs": [],
   "source": []
  },
  {
   "cell_type": "code",
   "execution_count": null,
   "id": "8bb3ab9d",
   "metadata": {
    "hidden": true,
    "id": "8bb3ab9d"
   },
   "outputs": [],
   "source": []
  },
  {
   "cell_type": "code",
   "execution_count": null,
   "id": "1a8d9887",
   "metadata": {
    "hidden": true,
    "id": "1a8d9887"
   },
   "outputs": [],
   "source": []
  },
  {
   "cell_type": "markdown",
   "id": "41f0586c",
   "metadata": {
    "heading_collapsed": true,
    "id": "41f0586c"
   },
   "source": [
    "##### 3. Qual o `id`  do imóvel que foi mais locado da base de dados?"
   ]
  },
  {
   "cell_type": "code",
   "execution_count": null,
   "id": "17d83fec",
   "metadata": {
    "hidden": true,
    "id": "17d83fec"
   },
   "outputs": [],
   "source": []
  },
  {
   "cell_type": "code",
   "execution_count": null,
   "id": "2ca99865",
   "metadata": {
    "hidden": true,
    "id": "2ca99865"
   },
   "outputs": [],
   "source": []
  },
  {
   "cell_type": "code",
   "execution_count": null,
   "id": "5ad1ef38",
   "metadata": {
    "hidden": true,
    "id": "5ad1ef38"
   },
   "outputs": [],
   "source": []
  },
  {
   "cell_type": "markdown",
   "id": "48d40ea0",
   "metadata": {
    "heading_collapsed": true,
    "id": "48d40ea0"
   },
   "source": [
    "##### 4. Qual o `id`  do imóvel que ficou mais tempo com o anúncio disponível, em dias, para locação na base de dados?"
   ]
  },
  {
   "cell_type": "code",
   "execution_count": null,
   "id": "5adec473",
   "metadata": {
    "hidden": true,
    "id": "5adec473"
   },
   "outputs": [],
   "source": []
  },
  {
   "cell_type": "code",
   "execution_count": null,
   "id": "1f4da28e",
   "metadata": {
    "hidden": true,
    "id": "1f4da28e"
   },
   "outputs": [],
   "source": []
  },
  {
   "cell_type": "code",
   "execution_count": null,
   "id": "a7ac802e",
   "metadata": {
    "hidden": true,
    "id": "a7ac802e"
   },
   "outputs": [],
   "source": []
  },
  {
   "cell_type": "markdown",
   "id": "42053201",
   "metadata": {
    "heading_collapsed": true,
    "id": "42053201"
   },
   "source": [
    "##### 5. Qual o `id` do imóvel que ficou menos tempo com o anúncio disponível, em dias, para locação na base de dados?"
   ]
  },
  {
   "cell_type": "code",
   "execution_count": null,
   "id": "c9d07f73",
   "metadata": {
    "hidden": true,
    "id": "c9d07f73"
   },
   "outputs": [],
   "source": []
  },
  {
   "cell_type": "code",
   "execution_count": null,
   "id": "fd9df34e",
   "metadata": {
    "hidden": true,
    "id": "fd9df34e"
   },
   "outputs": [],
   "source": []
  },
  {
   "cell_type": "code",
   "execution_count": null,
   "id": "b004fac9",
   "metadata": {
    "hidden": true,
    "id": "b004fac9"
   },
   "outputs": [],
   "source": []
  },
  {
   "cell_type": "markdown",
   "id": "8fe1e6c1",
   "metadata": {
    "heading_collapsed": true,
    "id": "8fe1e6c1"
   },
   "source": [
    "##### 6. O imóvel com o maior valor de aluguel (diária) da base de dados é o imóvel que possui mais avaliações na base de dados?"
   ]
  },
  {
   "cell_type": "code",
   "execution_count": null,
   "id": "5406672d",
   "metadata": {
    "hidden": true,
    "id": "5406672d"
   },
   "outputs": [],
   "source": []
  },
  {
   "cell_type": "code",
   "execution_count": null,
   "id": "4a5ee8ef",
   "metadata": {
    "hidden": true,
    "id": "4a5ee8ef"
   },
   "outputs": [],
   "source": []
  },
  {
   "cell_type": "code",
   "execution_count": null,
   "id": "e0b9a40c",
   "metadata": {
    "hidden": true,
    "id": "e0b9a40c"
   },
   "outputs": [],
   "source": []
  },
  {
   "cell_type": "markdown",
   "id": "9147e329",
   "metadata": {
    "heading_collapsed": true,
    "id": "9147e329"
   },
   "source": [
    "##### 7. O imóvel que possui a menor quantidade mínima de diárias para locação é também o imóvel que possuí o aluguel mais caro?"
   ]
  },
  {
   "cell_type": "code",
   "execution_count": null,
   "id": "557caf1f",
   "metadata": {
    "hidden": true,
    "id": "557caf1f"
   },
   "outputs": [],
   "source": []
  },
  {
   "cell_type": "code",
   "execution_count": null,
   "id": "c66900f8",
   "metadata": {
    "hidden": true,
    "id": "c66900f8"
   },
   "outputs": [],
   "source": []
  },
  {
   "cell_type": "code",
   "execution_count": null,
   "id": "f4f17763",
   "metadata": {
    "hidden": true,
    "id": "f4f17763"
   },
   "outputs": [],
   "source": []
  },
  {
   "cell_type": "markdown",
   "id": "5b61000c",
   "metadata": {
    "heading_collapsed": true,
    "id": "5b61000c"
   },
   "source": [
    "##### 8. Qual é a média do número mínimo de diárias para locação de um imóvel? "
   ]
  },
  {
   "cell_type": "code",
   "execution_count": null,
   "id": "18bb68f4",
   "metadata": {
    "hidden": true,
    "id": "18bb68f4"
   },
   "outputs": [],
   "source": []
  },
  {
   "cell_type": "code",
   "execution_count": null,
   "id": "c3efcccc",
   "metadata": {
    "hidden": true,
    "id": "c3efcccc"
   },
   "outputs": [],
   "source": []
  },
  {
   "cell_type": "code",
   "execution_count": null,
   "id": "1607ce25",
   "metadata": {
    "hidden": true,
    "id": "1607ce25"
   },
   "outputs": [],
   "source": []
  },
  {
   "cell_type": "markdown",
   "id": "7bf14986",
   "metadata": {
    "heading_collapsed": true,
    "id": "7bf14986"
   },
   "source": [
    "##### 9. Qual é o `id` do imóvel com a quantidade mínima de diárias para locação da base de dados?"
   ]
  },
  {
   "cell_type": "code",
   "execution_count": null,
   "id": "de5756af",
   "metadata": {
    "hidden": true,
    "id": "de5756af"
   },
   "outputs": [],
   "source": []
  },
  {
   "cell_type": "code",
   "execution_count": null,
   "id": "3e9291ff",
   "metadata": {
    "hidden": true,
    "id": "3e9291ff"
   },
   "outputs": [],
   "source": []
  },
  {
   "cell_type": "code",
   "execution_count": null,
   "id": "c3dc912d",
   "metadata": {
    "hidden": true,
    "id": "c3dc912d"
   },
   "outputs": [],
   "source": []
  },
  {
   "cell_type": "markdown",
   "id": "cecba7a6",
   "metadata": {
    "heading_collapsed": true,
    "id": "cecba7a6"
   },
   "source": [
    "##### 10. Qual é o `id` do host que possui o imóvel mais alugado na base de dados?"
   ]
  },
  {
   "cell_type": "code",
   "execution_count": null,
   "id": "36ff4870",
   "metadata": {
    "hidden": true,
    "id": "36ff4870"
   },
   "outputs": [],
   "source": []
  },
  {
   "cell_type": "code",
   "execution_count": null,
   "id": "6765a27a",
   "metadata": {
    "hidden": true,
    "id": "6765a27a"
   },
   "outputs": [],
   "source": []
  },
  {
   "cell_type": "code",
   "execution_count": null,
   "id": "f7328eed",
   "metadata": {
    "hidden": true,
    "id": "f7328eed"
   },
   "outputs": [],
   "source": []
  },
  {
   "cell_type": "markdown",
   "id": "5fc653c0",
   "metadata": {
    "heading_collapsed": true,
    "id": "5fc653c0"
   },
   "source": [
    "##### 11. Qual é o `id` do host que possui o imóvel menos alugado na base de dados?"
   ]
  },
  {
   "cell_type": "code",
   "execution_count": null,
   "id": "a7ddf7de",
   "metadata": {
    "hidden": true,
    "id": "a7ddf7de"
   },
   "outputs": [],
   "source": []
  },
  {
   "cell_type": "code",
   "execution_count": null,
   "id": "e563249b",
   "metadata": {
    "hidden": true,
    "id": "e563249b"
   },
   "outputs": [],
   "source": []
  },
  {
   "cell_type": "code",
   "execution_count": null,
   "id": "1d87f050",
   "metadata": {
    "hidden": true,
    "id": "1d87f050"
   },
   "outputs": [],
   "source": []
  },
  {
   "cell_type": "markdown",
   "id": "4d4cadff",
   "metadata": {
    "heading_collapsed": true,
    "id": "4d4cadff"
   },
   "source": [
    "##### 12. Qual é o `id` do host que possui o imóvel com mais avaliações na base de dados?"
   ]
  },
  {
   "cell_type": "code",
   "execution_count": null,
   "id": "486848f7",
   "metadata": {
    "hidden": true,
    "id": "486848f7"
   },
   "outputs": [],
   "source": []
  },
  {
   "cell_type": "code",
   "execution_count": null,
   "id": "0aa3b03b",
   "metadata": {
    "hidden": true,
    "id": "0aa3b03b"
   },
   "outputs": [],
   "source": []
  },
  {
   "cell_type": "code",
   "execution_count": null,
   "id": "cea2c76a",
   "metadata": {
    "hidden": true,
    "id": "cea2c76a"
   },
   "outputs": [],
   "source": []
  },
  {
   "cell_type": "markdown",
   "id": "abe48688",
   "metadata": {
    "heading_collapsed": true,
    "id": "abe48688"
   },
   "source": [
    "##### 13. Qual é o `id` do host que possui a maior quantidade de imóveis cadastrados na base de dados?"
   ]
  },
  {
   "cell_type": "code",
   "execution_count": null,
   "id": "f9ac7151",
   "metadata": {
    "hidden": true,
    "id": "f9ac7151"
   },
   "outputs": [],
   "source": []
  },
  {
   "cell_type": "code",
   "execution_count": null,
   "id": "2bd4a498",
   "metadata": {
    "hidden": true,
    "id": "2bd4a498"
   },
   "outputs": [],
   "source": []
  },
  {
   "cell_type": "code",
   "execution_count": null,
   "id": "7fe59a59",
   "metadata": {
    "hidden": true,
    "id": "7fe59a59"
   },
   "outputs": [],
   "source": []
  },
  {
   "cell_type": "markdown",
   "id": "e3ba9d63",
   "metadata": {
    "heading_collapsed": true,
    "id": "e3ba9d63"
   },
   "source": [
    "##### 14. Qual o `id` do host que possui o imóvel com a última avaliação feita na base de dados?"
   ]
  },
  {
   "cell_type": "code",
   "execution_count": null,
   "id": "3e0a5fcc",
   "metadata": {
    "hidden": true,
    "id": "3e0a5fcc"
   },
   "outputs": [],
   "source": []
  },
  {
   "cell_type": "code",
   "execution_count": null,
   "id": "ace788da",
   "metadata": {
    "hidden": true,
    "id": "ace788da"
   },
   "outputs": [],
   "source": []
  },
  {
   "cell_type": "code",
   "execution_count": null,
   "id": "17fe4b7c",
   "metadata": {
    "hidden": true,
    "id": "17fe4b7c"
   },
   "outputs": [],
   "source": []
  },
  {
   "cell_type": "markdown",
   "id": "86c501b6",
   "metadata": {
    "heading_collapsed": true,
    "id": "86c501b6"
   },
   "source": [
    "##### 15. Qual o `id` do host que possui mais imóveis ativos dentro da base de dados?"
   ]
  },
  {
   "cell_type": "code",
   "execution_count": null,
   "id": "026bff68",
   "metadata": {
    "hidden": true,
    "id": "026bff68"
   },
   "outputs": [],
   "source": []
  },
  {
   "cell_type": "code",
   "execution_count": null,
   "id": "d7bf0d1f",
   "metadata": {
    "hidden": true,
    "id": "d7bf0d1f"
   },
   "outputs": [],
   "source": []
  },
  {
   "cell_type": "code",
   "execution_count": null,
   "id": "537e5d3a",
   "metadata": {
    "hidden": true,
    "id": "537e5d3a"
   },
   "outputs": [],
   "source": []
  },
  {
   "cell_type": "markdown",
   "id": "5a7b633d",
   "metadata": {
    "heading_collapsed": true,
    "id": "5a7b633d"
   },
   "source": [
    "##### 16. O host que possui mais imóveis é o host que também possui mais avaliações?"
   ]
  },
  {
   "cell_type": "code",
   "execution_count": null,
   "id": "83d59afa",
   "metadata": {
    "hidden": true,
    "id": "83d59afa"
   },
   "outputs": [],
   "source": []
  },
  {
   "cell_type": "code",
   "execution_count": null,
   "id": "b85dd545",
   "metadata": {
    "hidden": true,
    "id": "b85dd545"
   },
   "outputs": [],
   "source": []
  },
  {
   "cell_type": "code",
   "execution_count": null,
   "id": "60204c34",
   "metadata": {
    "hidden": true,
    "id": "60204c34"
   },
   "outputs": [],
   "source": []
  },
  {
   "cell_type": "markdown",
   "id": "0b5bfcb0",
   "metadata": {
    "heading_collapsed": true,
    "id": "0b5bfcb0"
   },
   "source": [
    "##### 17. Qual é a categoria que mais possui imóveis dentro da base de dados?"
   ]
  },
  {
   "cell_type": "code",
   "execution_count": null,
   "id": "2d31c898",
   "metadata": {
    "hidden": true,
    "id": "2d31c898"
   },
   "outputs": [],
   "source": []
  },
  {
   "cell_type": "code",
   "execution_count": null,
   "id": "4c6d8f96",
   "metadata": {
    "hidden": true,
    "id": "4c6d8f96"
   },
   "outputs": [],
   "source": []
  },
  {
   "cell_type": "code",
   "execution_count": null,
   "id": "c0e37ccc",
   "metadata": {
    "hidden": true,
    "id": "c0e37ccc"
   },
   "outputs": [],
   "source": []
  },
  {
   "cell_type": "markdown",
   "id": "bb3d35c7",
   "metadata": {
    "heading_collapsed": true,
    "id": "bb3d35c7"
   },
   "source": [
    "##### 18. Qual é a categoria que menos possui imóveis dentro da base de dados?"
   ]
  },
  {
   "cell_type": "code",
   "execution_count": null,
   "id": "0673c36a",
   "metadata": {
    "hidden": true,
    "id": "0673c36a"
   },
   "outputs": [],
   "source": []
  },
  {
   "cell_type": "code",
   "execution_count": null,
   "id": "18a806fa",
   "metadata": {
    "hidden": true,
    "id": "18a806fa"
   },
   "outputs": [],
   "source": []
  },
  {
   "cell_type": "code",
   "execution_count": null,
   "id": "7fd95956",
   "metadata": {
    "hidden": true,
    "id": "7fd95956"
   },
   "outputs": [],
   "source": []
  },
  {
   "cell_type": "markdown",
   "id": "4cef54f9",
   "metadata": {
    "heading_collapsed": true,
    "id": "4cef54f9"
   },
   "source": [
    "##### 19. A região de `Manhattan` é a região que mais possui imóveis ativos para locação, da categoria `Private room`?"
   ]
  },
  {
   "cell_type": "code",
   "execution_count": null,
   "id": "b2484524",
   "metadata": {
    "hidden": true,
    "id": "b2484524"
   },
   "outputs": [],
   "source": []
  },
  {
   "cell_type": "code",
   "execution_count": null,
   "id": "73500c83",
   "metadata": {
    "hidden": true,
    "id": "73500c83"
   },
   "outputs": [],
   "source": []
  },
  {
   "cell_type": "code",
   "execution_count": null,
   "id": "e4f562c5",
   "metadata": {
    "hidden": true,
    "id": "e4f562c5"
   },
   "outputs": [],
   "source": []
  },
  {
   "cell_type": "markdown",
   "id": "4924658e",
   "metadata": {
    "id": "4924658e"
   },
   "source": [
    "##### 20. Qual a categoria de imóvel que possui a maior média de tempo de disponibilidade para serem locados da região do `Bronx`? Considere somente imóveis ativos"
   ]
  },
  {
   "cell_type": "code",
   "execution_count": null,
   "id": "2d092a4d",
   "metadata": {
    "id": "2d092a4d"
   },
   "outputs": [],
   "source": []
  },
  {
   "cell_type": "code",
   "execution_count": null,
   "id": "4434b42d",
   "metadata": {
    "id": "4434b42d"
   },
   "outputs": [],
   "source": []
  },
  {
   "cell_type": "code",
   "execution_count": null,
   "id": "76c8239b",
   "metadata": {
    "id": "76c8239b"
   },
   "outputs": [],
   "source": []
  },
  {
   "cell_type": "markdown",
   "id": "83b23931",
   "metadata": {
    "id": "83b23931"
   },
   "source": [
    "##### 21. Qual a categoria de imóvel ativo que possui o maior valor de aluguel (diária) na região de `Manhattan`?"
   ]
  },
  {
   "cell_type": "code",
   "execution_count": null,
   "id": "ae557a31",
   "metadata": {
    "id": "ae557a31"
   },
   "outputs": [],
   "source": []
  },
  {
   "cell_type": "code",
   "execution_count": null,
   "id": "46cc4185",
   "metadata": {
    "id": "46cc4185"
   },
   "outputs": [],
   "source": []
  },
  {
   "cell_type": "code",
   "execution_count": null,
   "id": "9854a1bf",
   "metadata": {
    "id": "9854a1bf"
   },
   "outputs": [],
   "source": []
  },
  {
   "cell_type": "markdown",
   "id": "2f776e18",
   "metadata": {
    "heading_collapsed": true,
    "id": "2f776e18"
   },
   "source": [
    "##### 22. A categoria de imóvel “Private Room“ é a categoria que fica mais tempo disponível para locação?"
   ]
  },
  {
   "cell_type": "code",
   "execution_count": null,
   "id": "2258a825",
   "metadata": {
    "hidden": true,
    "id": "2258a825"
   },
   "outputs": [],
   "source": []
  },
  {
   "cell_type": "code",
   "execution_count": null,
   "id": "272ab7f0",
   "metadata": {
    "hidden": true,
    "id": "272ab7f0"
   },
   "outputs": [],
   "source": []
  },
  {
   "cell_type": "code",
   "execution_count": null,
   "id": "2841e37d",
   "metadata": {
    "hidden": true,
    "id": "2841e37d"
   },
   "outputs": [],
   "source": []
  },
  {
   "cell_type": "markdown",
   "id": "724d3c82",
   "metadata": {
    "heading_collapsed": true,
    "id": "724d3c82"
   },
   "source": [
    "##### 23. Qual a categoria de imóvel que fica mais tempo disponível, na média, para locação?"
   ]
  },
  {
   "cell_type": "code",
   "execution_count": null,
   "id": "80255f7f",
   "metadata": {
    "hidden": true,
    "id": "80255f7f"
   },
   "outputs": [],
   "source": []
  },
  {
   "cell_type": "code",
   "execution_count": null,
   "id": "13b47189",
   "metadata": {
    "hidden": true,
    "id": "13b47189"
   },
   "outputs": [],
   "source": []
  },
  {
   "cell_type": "code",
   "execution_count": null,
   "id": "d729b602",
   "metadata": {
    "hidden": true,
    "id": "d729b602"
   },
   "outputs": [],
   "source": []
  },
  {
   "cell_type": "markdown",
   "id": "3205c88c",
   "metadata": {
    "heading_collapsed": true,
    "id": "3205c88c"
   },
   "source": [
    "##### 24. A categoria de imóvel que fica menos tempo disponível, na média, para locação é a categoria que possuí, em média, o menor aluguel (diária)?"
   ]
  },
  {
   "cell_type": "code",
   "execution_count": null,
   "id": "a6b19656",
   "metadata": {
    "hidden": true,
    "id": "a6b19656"
   },
   "outputs": [],
   "source": []
  },
  {
   "cell_type": "code",
   "execution_count": null,
   "id": "bef91c37",
   "metadata": {
    "hidden": true,
    "id": "bef91c37"
   },
   "outputs": [],
   "source": []
  },
  {
   "cell_type": "code",
   "execution_count": null,
   "id": "db9f36f7",
   "metadata": {
    "hidden": true,
    "id": "db9f36f7"
   },
   "outputs": [],
   "source": []
  },
  {
   "cell_type": "markdown",
   "id": "6a8fa8e3",
   "metadata": {
    "heading_collapsed": true,
    "id": "6a8fa8e3"
   },
   "source": [
    "##### 25. A categoria de imóvel `Entire home/apt` é a categoria que possui, na média, o maior valor de aluguel?"
   ]
  },
  {
   "cell_type": "code",
   "execution_count": null,
   "id": "c2180ebb",
   "metadata": {
    "hidden": true,
    "id": "c2180ebb"
   },
   "outputs": [],
   "source": []
  },
  {
   "cell_type": "code",
   "execution_count": null,
   "id": "3cd41269",
   "metadata": {
    "hidden": true,
    "id": "3cd41269"
   },
   "outputs": [],
   "source": []
  },
  {
   "cell_type": "code",
   "execution_count": null,
   "id": "849c601d",
   "metadata": {
    "hidden": true,
    "id": "849c601d"
   },
   "outputs": [],
   "source": []
  },
  {
   "cell_type": "markdown",
   "id": "5bbe1d09",
   "metadata": {
    "heading_collapsed": true,
    "id": "5bbe1d09"
   },
   "source": [
    "##### 26. A categoria de imóvel `Entire home/apt` é a categoria que possui, na média, menos locações?"
   ]
  },
  {
   "cell_type": "code",
   "execution_count": null,
   "id": "d106fb88",
   "metadata": {
    "hidden": true,
    "id": "d106fb88"
   },
   "outputs": [],
   "source": []
  },
  {
   "cell_type": "code",
   "execution_count": null,
   "id": "0c7ed703",
   "metadata": {
    "hidden": true,
    "id": "0c7ed703"
   },
   "outputs": [],
   "source": []
  },
  {
   "cell_type": "code",
   "execution_count": null,
   "id": "199c1b99",
   "metadata": {
    "hidden": true,
    "id": "199c1b99"
   },
   "outputs": [],
   "source": []
  },
  {
   "cell_type": "markdown",
   "id": "436ac841",
   "metadata": {
    "heading_collapsed": true,
    "id": "436ac841"
   },
   "source": [
    "##### 27. A categoria de imóvel `Private Room` na região de Manhattan, na média, é a categoria que possui o menor valor de locação, comparado as outras categorias na mesma região? "
   ]
  },
  {
   "cell_type": "code",
   "execution_count": null,
   "id": "0ce74590",
   "metadata": {
    "hidden": true,
    "id": "0ce74590"
   },
   "outputs": [],
   "source": []
  },
  {
   "cell_type": "code",
   "execution_count": null,
   "id": "dfd33ef9",
   "metadata": {
    "hidden": true,
    "id": "dfd33ef9"
   },
   "outputs": [],
   "source": []
  },
  {
   "cell_type": "code",
   "execution_count": null,
   "id": "5d139430",
   "metadata": {
    "hidden": true,
    "id": "5d139430"
   },
   "outputs": [],
   "source": []
  },
  {
   "cell_type": "markdown",
   "id": "774378e7",
   "metadata": {
    "heading_collapsed": true,
    "id": "774378e7"
   },
   "source": [
    "##### 28. Qual a região que possui a maior quantidade de imóveis?"
   ]
  },
  {
   "cell_type": "code",
   "execution_count": null,
   "id": "94a14082",
   "metadata": {
    "hidden": true,
    "id": "94a14082"
   },
   "outputs": [],
   "source": []
  },
  {
   "cell_type": "code",
   "execution_count": null,
   "id": "27102299",
   "metadata": {
    "hidden": true,
    "id": "27102299"
   },
   "outputs": [],
   "source": []
  },
  {
   "cell_type": "code",
   "execution_count": null,
   "id": "ad8dc5d3",
   "metadata": {
    "hidden": true,
    "id": "ad8dc5d3"
   },
   "outputs": [],
   "source": []
  },
  {
   "cell_type": "markdown",
   "id": "53abcb8d",
   "metadata": {
    "heading_collapsed": true,
    "id": "53abcb8d"
   },
   "source": [
    "##### 29. Qual a região que possui a menor quantidade de imóveis?"
   ]
  },
  {
   "cell_type": "code",
   "execution_count": null,
   "id": "db39c923",
   "metadata": {
    "hidden": true,
    "id": "db39c923"
   },
   "outputs": [],
   "source": []
  },
  {
   "cell_type": "code",
   "execution_count": null,
   "id": "8933cdeb",
   "metadata": {
    "hidden": true,
    "id": "8933cdeb"
   },
   "outputs": [],
   "source": []
  },
  {
   "cell_type": "code",
   "execution_count": null,
   "id": "5421a345",
   "metadata": {
    "hidden": true,
    "id": "5421a345"
   },
   "outputs": [],
   "source": []
  },
  {
   "cell_type": "markdown",
   "id": "c1ef0c73",
   "metadata": {
    "heading_collapsed": true,
    "id": "c1ef0c73"
   },
   "source": [
    "##### 30. A região que possui a maior quantidade de imóveis é também a região que possui os imóveis mais locados?"
   ]
  },
  {
   "cell_type": "code",
   "execution_count": null,
   "id": "8e80f4a1",
   "metadata": {
    "hidden": true,
    "id": "8e80f4a1"
   },
   "outputs": [],
   "source": []
  },
  {
   "cell_type": "code",
   "execution_count": null,
   "id": "3bbe277c",
   "metadata": {
    "hidden": true,
    "id": "3bbe277c"
   },
   "outputs": [],
   "source": []
  },
  {
   "cell_type": "code",
   "execution_count": null,
   "id": "647aa533",
   "metadata": {
    "hidden": true,
    "id": "647aa533"
   },
   "outputs": [],
   "source": []
  },
  {
   "cell_type": "markdown",
   "id": "80f47100",
   "metadata": {
    "heading_collapsed": true,
    "id": "80f47100"
   },
   "source": [
    "##### 31. Qual a região que possui a menor quantidade de imóveis locados dentro da base de dados?"
   ]
  },
  {
   "cell_type": "code",
   "execution_count": null,
   "id": "943586e9",
   "metadata": {
    "hidden": true,
    "id": "943586e9"
   },
   "outputs": [],
   "source": []
  },
  {
   "cell_type": "code",
   "execution_count": null,
   "id": "694a510b",
   "metadata": {
    "hidden": true,
    "id": "694a510b"
   },
   "outputs": [],
   "source": []
  },
  {
   "cell_type": "code",
   "execution_count": null,
   "id": "eae5f9eb",
   "metadata": {
    "hidden": true,
    "id": "eae5f9eb"
   },
   "outputs": [],
   "source": []
  },
  {
   "cell_type": "markdown",
   "id": "23e9f409",
   "metadata": {
    "heading_collapsed": true,
    "id": "23e9f409"
   },
   "source": [
    "##### 32. A região de `Manhattan` é a região que possui, na média, os maiores aluguéis (diárias) dentro da base de dados?"
   ]
  },
  {
   "cell_type": "code",
   "execution_count": null,
   "id": "edf07278",
   "metadata": {
    "hidden": true,
    "id": "edf07278"
   },
   "outputs": [],
   "source": []
  },
  {
   "cell_type": "code",
   "execution_count": null,
   "id": "dd61bc4f",
   "metadata": {
    "hidden": true,
    "id": "dd61bc4f"
   },
   "outputs": [],
   "source": []
  },
  {
   "cell_type": "code",
   "execution_count": null,
   "id": "1356cf94",
   "metadata": {
    "hidden": true,
    "id": "1356cf94"
   },
   "outputs": [],
   "source": []
  },
  {
   "cell_type": "markdown",
   "id": "6fa1634a",
   "metadata": {
    "id": "6fa1634a"
   },
   "source": [
    "##### 33. A região de `Queens` é a região que possui, na média, os menores aluguéis (diárias) dentro da base de dados?"
   ]
  },
  {
   "cell_type": "code",
   "execution_count": null,
   "id": "1e6c313e",
   "metadata": {
    "id": "1e6c313e"
   },
   "outputs": [],
   "source": []
  },
  {
   "cell_type": "code",
   "execution_count": null,
   "id": "c9ce2f28",
   "metadata": {
    "id": "c9ce2f28"
   },
   "outputs": [],
   "source": []
  },
  {
   "cell_type": "code",
   "execution_count": null,
   "id": "59fa9121",
   "metadata": {
    "id": "59fa9121"
   },
   "outputs": [],
   "source": []
  },
  {
   "cell_type": "markdown",
   "id": "071bf3fb",
   "metadata": {
    "heading_collapsed": true,
    "id": "071bf3fb"
   },
   "source": [
    "##### 34. Qual a região que possui, na média, os imóveis com os menores aluguéis dentro da base de dados?"
   ]
  },
  {
   "cell_type": "code",
   "execution_count": null,
   "id": "ab307750",
   "metadata": {
    "hidden": true,
    "id": "ab307750"
   },
   "outputs": [],
   "source": []
  },
  {
   "cell_type": "code",
   "execution_count": null,
   "id": "63542283",
   "metadata": {
    "hidden": true,
    "id": "63542283"
   },
   "outputs": [],
   "source": []
  },
  {
   "cell_type": "code",
   "execution_count": null,
   "id": "a7ea8187",
   "metadata": {
    "hidden": true,
    "id": "a7ea8187"
   },
   "outputs": [],
   "source": []
  },
  {
   "cell_type": "markdown",
   "id": "3118d788",
   "metadata": {
    "heading_collapsed": true,
    "id": "3118d788"
   },
   "source": [
    "##### 35. Qual a região que possui os imóveis que ficam, na média, menos tempo disponíveis para aluguel? Ou seja, são alugados mais rápidos na média?"
   ]
  },
  {
   "cell_type": "code",
   "execution_count": null,
   "id": "bd42c9c4",
   "metadata": {
    "hidden": true,
    "id": "bd42c9c4"
   },
   "outputs": [],
   "source": []
  },
  {
   "cell_type": "code",
   "execution_count": null,
   "id": "634f3a5d",
   "metadata": {
    "hidden": true,
    "id": "634f3a5d"
   },
   "outputs": [],
   "source": []
  },
  {
   "cell_type": "code",
   "execution_count": null,
   "id": "2bc73cd3",
   "metadata": {
    "hidden": true,
    "id": "2bc73cd3"
   },
   "outputs": [],
   "source": []
  },
  {
   "cell_type": "markdown",
   "id": "76defbd1",
   "metadata": {
    "heading_collapsed": true,
    "id": "76defbd1"
   },
   "source": [
    "##### 36. Qual o bairro possui a maior quantidade de imóveis ativos para locação?"
   ]
  },
  {
   "cell_type": "code",
   "execution_count": null,
   "id": "5deafbfd",
   "metadata": {
    "hidden": true,
    "id": "5deafbfd"
   },
   "outputs": [],
   "source": []
  },
  {
   "cell_type": "code",
   "execution_count": null,
   "id": "91fa947c",
   "metadata": {
    "hidden": true,
    "id": "91fa947c"
   },
   "outputs": [],
   "source": []
  },
  {
   "cell_type": "code",
   "execution_count": null,
   "id": "303230bb",
   "metadata": {
    "hidden": true,
    "id": "303230bb"
   },
   "outputs": [],
   "source": []
  },
  {
   "cell_type": "markdown",
   "id": "29843794",
   "metadata": {
    "heading_collapsed": true,
    "id": "29843794"
   },
   "source": [
    "##### 37. Qual o bairro possui a menor quantidade de imóveis ativos para locação?"
   ]
  },
  {
   "cell_type": "code",
   "execution_count": null,
   "id": "a4806389",
   "metadata": {
    "hidden": true,
    "id": "a4806389"
   },
   "outputs": [],
   "source": []
  },
  {
   "cell_type": "code",
   "execution_count": null,
   "id": "694284ca",
   "metadata": {
    "hidden": true,
    "id": "694284ca"
   },
   "outputs": [],
   "source": []
  },
  {
   "cell_type": "code",
   "execution_count": null,
   "id": "46d76a3a",
   "metadata": {
    "hidden": true,
    "id": "46d76a3a"
   },
   "outputs": [],
   "source": []
  },
  {
   "cell_type": "markdown",
   "id": "78c54d15",
   "metadata": {
    "heading_collapsed": true,
    "id": "78c54d15"
   },
   "source": [
    "##### 38. Qual bairro está o imóvel com o maior valor de aluguel?"
   ]
  },
  {
   "cell_type": "code",
   "execution_count": null,
   "id": "0d67fdbb",
   "metadata": {
    "hidden": true,
    "id": "0d67fdbb"
   },
   "outputs": [],
   "source": []
  },
  {
   "cell_type": "code",
   "execution_count": null,
   "id": "0d853f9b",
   "metadata": {
    "hidden": true,
    "id": "0d853f9b"
   },
   "outputs": [],
   "source": []
  },
  {
   "cell_type": "code",
   "execution_count": null,
   "id": "b4d46465",
   "metadata": {
    "hidden": true,
    "id": "b4d46465"
   },
   "outputs": [],
   "source": []
  },
  {
   "cell_type": "markdown",
   "id": "4545de9f",
   "metadata": {
    "heading_collapsed": true,
    "id": "4545de9f"
   },
   "source": [
    "##### 39. Qual bairro está o imóvel com o menor valor de aluguel?"
   ]
  },
  {
   "cell_type": "code",
   "execution_count": null,
   "id": "edbe00bb",
   "metadata": {
    "hidden": true,
    "id": "edbe00bb"
   },
   "outputs": [],
   "source": []
  },
  {
   "cell_type": "code",
   "execution_count": null,
   "id": "07123cb3",
   "metadata": {
    "hidden": true,
    "id": "07123cb3"
   },
   "outputs": [],
   "source": []
  },
  {
   "cell_type": "code",
   "execution_count": null,
   "id": "26d162d6",
   "metadata": {
    "hidden": true,
    "id": "26d162d6"
   },
   "outputs": [],
   "source": []
  },
  {
   "cell_type": "markdown",
   "id": "5d79d6fe",
   "metadata": {
    "id": "5d79d6fe"
   },
   "source": [
    "##### 40. Qual região que possui o bairro com mais imóveis ativos disponíveis para locação?"
   ]
  },
  {
   "cell_type": "code",
   "execution_count": null,
   "id": "77c21abc",
   "metadata": {
    "id": "77c21abc"
   },
   "outputs": [],
   "source": []
  },
  {
   "cell_type": "code",
   "execution_count": null,
   "id": "40395a0a",
   "metadata": {
    "id": "40395a0a"
   },
   "outputs": [],
   "source": []
  },
  {
   "cell_type": "code",
   "execution_count": null,
   "id": "d8749ef5",
   "metadata": {
    "id": "d8749ef5"
   },
   "outputs": [],
   "source": []
  },
  {
   "cell_type": "markdown",
   "id": "2316bf28",
   "metadata": {
    "id": "2316bf28"
   },
   "source": [
    "##### 41. Qual região que possui o bairro com menos imóveis ativos disponíveis para locação?"
   ]
  },
  {
   "cell_type": "code",
   "execution_count": null,
   "id": "d48111a6",
   "metadata": {
    "id": "d48111a6"
   },
   "outputs": [],
   "source": []
  },
  {
   "cell_type": "code",
   "execution_count": null,
   "id": "cf34de94",
   "metadata": {
    "id": "cf34de94"
   },
   "outputs": [],
   "source": []
  },
  {
   "cell_type": "code",
   "execution_count": null,
   "id": "1479079f",
   "metadata": {
    "id": "1479079f"
   },
   "outputs": [],
   "source": []
  },
  {
   "cell_type": "markdown",
   "id": "b405c226",
   "metadata": {
    "heading_collapsed": true,
    "id": "b405c226"
   },
   "source": [
    "##### 42. O Bairro `Upper West Side`, na região de `Manhattan`, é o bairro que possui, na média, o maior aluguel dentro da base de dados?"
   ]
  },
  {
   "cell_type": "code",
   "execution_count": null,
   "id": "37cb349b",
   "metadata": {
    "hidden": true,
    "id": "37cb349b"
   },
   "outputs": [],
   "source": []
  },
  {
   "cell_type": "code",
   "execution_count": null,
   "id": "0fc2627f",
   "metadata": {
    "hidden": true,
    "id": "0fc2627f"
   },
   "outputs": [],
   "source": []
  },
  {
   "cell_type": "code",
   "execution_count": null,
   "id": "90a7d671",
   "metadata": {
    "hidden": true,
    "id": "90a7d671"
   },
   "outputs": [],
   "source": []
  },
  {
   "cell_type": "markdown",
   "id": "4aee0885",
   "metadata": {
    "id": "4aee0885"
   },
   "source": [
    "##### 43. Qual é o bairro que possui, na média, o aluguel mais caro da base de dados?"
   ]
  },
  {
   "cell_type": "code",
   "execution_count": null,
   "id": "702c77d8",
   "metadata": {
    "id": "702c77d8"
   },
   "outputs": [],
   "source": []
  },
  {
   "cell_type": "code",
   "execution_count": null,
   "id": "45b78a4f",
   "metadata": {
    "id": "45b78a4f"
   },
   "outputs": [],
   "source": []
  },
  {
   "cell_type": "code",
   "execution_count": null,
   "id": "98f5c646",
   "metadata": {
    "id": "98f5c646"
   },
   "outputs": [],
   "source": []
  },
  {
   "cell_type": "markdown",
   "id": "dc31583f",
   "metadata": {
    "id": "dc31583f"
   },
   "source": [
    "##### 44. Qual o `id` do imóvel que possui a melhor rentabilidade da base de dados? Levando em consideração o aluguel mais caro e imóvel mais rápido de alugar?  Utilize somente os imóveis que estejam ativos e que possuam pelo menos uma avaliação."
   ]
  },
  {
   "cell_type": "markdown",
   "id": "bc32d31c",
   "metadata": {
    "id": "bc32d31c"
   },
   "source": [
    "Utilize a seguinte fórmula para verificar qual o melhor imóvel:\n",
    "\n",
    "$$ rentability = \\frac{price * (minimoum\\_nights + 1) * number\\_of\\_reviews}{\\sqrt{availability\\_365}} $$"
   ]
  },
  {
   "cell_type": "code",
   "execution_count": null,
   "id": "3782762f",
   "metadata": {
    "id": "3782762f"
   },
   "outputs": [],
   "source": []
  },
  {
   "cell_type": "code",
   "execution_count": null,
   "id": "00683e02",
   "metadata": {
    "id": "00683e02"
   },
   "outputs": [],
   "source": []
  },
  {
   "cell_type": "code",
   "execution_count": null,
   "id": "a6b24926",
   "metadata": {
    "id": "a6b24926"
   },
   "outputs": [],
   "source": []
  },
  {
   "cell_type": "markdown",
   "id": "d6841ab4",
   "metadata": {
    "id": "d6841ab4"
   },
   "source": [
    "##### 45. Qual a região em que fica o melhor bairro para se adquirir um imóvel, visando a melhor rentabilidade média? Utilize como métrica o índice criado na questão anterior."
   ]
  },
  {
   "cell_type": "code",
   "execution_count": null,
   "id": "6aedbabe",
   "metadata": {
    "id": "6aedbabe"
   },
   "outputs": [],
   "source": []
  },
  {
   "cell_type": "code",
   "execution_count": null,
   "id": "64374ea1",
   "metadata": {
    "id": "64374ea1"
   },
   "outputs": [],
   "source": []
  },
  {
   "cell_type": "code",
   "execution_count": null,
   "id": "c8bc6b0f",
   "metadata": {
    "id": "c8bc6b0f"
   },
   "outputs": [],
   "source": []
  },
  {
   "cell_type": "markdown",
   "id": "08c9638f",
   "metadata": {
    "id": "08c9638f"
   },
   "source": [
    "##### 46. Qual a região em que fica o pior bairro para se adquirir um imóvel, visando a melhor rentabilidade média? Utilize como métrica o índice criado na questão 44."
   ]
  },
  {
   "cell_type": "code",
   "execution_count": null,
   "id": "0e3bece8",
   "metadata": {
    "id": "0e3bece8"
   },
   "outputs": [],
   "source": []
  },
  {
   "cell_type": "code",
   "execution_count": null,
   "id": "90d322e9",
   "metadata": {
    "id": "90d322e9"
   },
   "outputs": [],
   "source": []
  },
  {
   "cell_type": "code",
   "execution_count": null,
   "id": "89c1bf1b",
   "metadata": {
    "id": "89c1bf1b"
   },
   "outputs": [],
   "source": []
  },
  {
   "cell_type": "markdown",
   "id": "85146a48",
   "metadata": {
    "id": "85146a48"
   },
   "source": [
    "##### 47. Levando em conta o bairro encontrado na questão anterior, verifique qual é o `id` do imóvel ativo que possui a pior rentabilidade desse bairro"
   ]
  },
  {
   "cell_type": "code",
   "execution_count": null,
   "id": "43678a96",
   "metadata": {
    "id": "43678a96"
   },
   "outputs": [],
   "source": []
  },
  {
   "cell_type": "code",
   "execution_count": null,
   "id": "26019273",
   "metadata": {
    "id": "26019273"
   },
   "outputs": [],
   "source": []
  },
  {
   "cell_type": "code",
   "execution_count": null,
   "id": "b5285184",
   "metadata": {
    "id": "b5285184"
   },
   "outputs": [],
   "source": []
  },
  {
   "cell_type": "markdown",
   "id": "39ef122b",
   "metadata": {
    "id": "39ef122b"
   },
   "source": [
    "##### 48. Levando em conta o bairro da questão 45, verifique qual o `id` do imóvel ativo que possui a melhor rentabilidade desse bairro"
   ]
  },
  {
   "cell_type": "code",
   "execution_count": null,
   "id": "7ddc79a5",
   "metadata": {
    "id": "7ddc79a5"
   },
   "outputs": [],
   "source": []
  },
  {
   "cell_type": "code",
   "execution_count": null,
   "id": "b72fd78a",
   "metadata": {
    "id": "b72fd78a"
   },
   "outputs": [],
   "source": []
  },
  {
   "cell_type": "code",
   "execution_count": null,
   "id": "098b212c",
   "metadata": {
    "id": "098b212c"
   },
   "outputs": [],
   "source": []
  },
  {
   "cell_type": "markdown",
   "id": "d53b8d9f",
   "metadata": {
    "id": "d53b8d9f"
   },
   "source": [
    "##### 49. Caso eu, investidor, compre o imóvel da questão anterior com um investimento de U\\$ 1.000.000,00, quantas vezes eu teria que locá-lo para ter o retorno do investimento feito? Utilize a fórmula abaixo para calcular o tempo de retorno do investimento"
   ]
  },
  {
   "cell_type": "markdown",
   "id": "d3fb69b5",
   "metadata": {
    "id": "d3fb69b5"
   },
   "source": [
    "$$ return\\_investment = \\frac{investment}{price * (minimum\\_nights + 1)} $$"
   ]
  },
  {
   "cell_type": "code",
   "execution_count": null,
   "id": "0dcac6c1",
   "metadata": {
    "id": "0dcac6c1"
   },
   "outputs": [],
   "source": []
  },
  {
   "cell_type": "code",
   "execution_count": null,
   "id": "852d88db",
   "metadata": {
    "id": "852d88db"
   },
   "outputs": [],
   "source": []
  },
  {
   "cell_type": "code",
   "execution_count": null,
   "id": "93c57142",
   "metadata": {
    "id": "93c57142"
   },
   "outputs": [],
   "source": []
  },
  {
   "cell_type": "markdown",
   "id": "347a8aa2",
   "metadata": {
    "id": "347a8aa2"
   },
   "source": [
    "##### 50. Se eu desejasse comprar um imóvel que esteja ativo em um dos bairros abaixo, qual seria o `id` do imóvel com a melhor rentabilidade dentre esses bairros? Utilize o índice calculado na questão 44."
   ]
  },
  {
   "cell_type": "markdown",
   "id": "095dfe95",
   "metadata": {
    "id": "095dfe95"
   },
   "source": [
    "* East Harlem\n",
    "* Harlem\n",
    "* Midtown\n",
    "* Morningside Heights\n",
    "* Upper West Side\n",
    "* Upper East Side"
   ]
  },
  {
   "cell_type": "code",
   "execution_count": null,
   "id": "43cc28eb",
   "metadata": {
    "id": "43cc28eb"
   },
   "outputs": [],
   "source": []
  },
  {
   "cell_type": "code",
   "execution_count": null,
   "id": "5bf4a514",
   "metadata": {
    "id": "5bf4a514"
   },
   "outputs": [],
   "source": []
  },
  {
   "cell_type": "code",
   "execution_count": null,
   "id": "98bfcbaf",
   "metadata": {
    "id": "98bfcbaf"
   },
   "outputs": [],
   "source": []
  },
  {
   "cell_type": "markdown",
   "id": "e6129e01",
   "metadata": {
    "id": "e6129e01"
   },
   "source": [
    "## Próximos Passos"
   ]
  },
  {
   "cell_type": "markdown",
   "id": "a79733c9",
   "metadata": {
    "id": "a79733c9"
   },
   "source": [
    "Como próximos passos para deixar o seu projeto um projeto de portifólio, crie um mapa, utilizando as técnicas aprendidas dentro do curso de Python do Zero ao DS, para demonstrar a densidade de imóveis por região ou bairro. \n",
    "\n",
    "Coloque também esse projeto em produção com o mapa desenhado e com quaisquer outras alterações ou melhorias que você queira! Não se esqueça de colocar o seu projeto no seu portifólio quando você terminar de melhorá-lo!"
   ]
  }
 ],
 "metadata": {
  "colab": {
   "name": "projeto_final_certificacao_aluno.ipynb",
   "provenance": []
  },
  "kernelspec": {
   "display_name": "Python 3 (ipykernel)",
   "language": "python",
   "name": "python3"
  },
  "language_info": {
   "codemirror_mode": {
    "name": "ipython",
    "version": 3
   },
   "file_extension": ".py",
   "mimetype": "text/x-python",
   "name": "python",
   "nbconvert_exporter": "python",
   "pygments_lexer": "ipython3",
   "version": "3.10.4"
  },
  "latex_envs": {
   "LaTeX_envs_menu_present": true,
   "autoclose": false,
   "autocomplete": true,
   "bibliofile": "biblio.bib",
   "cite_by": "apalike",
   "current_citInitial": 1,
   "eqLabelWithNumbers": true,
   "eqNumInitial": 1,
   "hotkeys": {
    "equation": "Ctrl-E",
    "itemize": "Ctrl-I"
   },
   "labels_anchors": false,
   "latex_user_defs": false,
   "report_style_numbering": false,
   "user_envs_cfg": false
  },
  "toc": {
   "base_numbering": 1,
   "nav_menu": {},
   "number_sections": false,
   "sideBar": true,
   "skip_h1_title": false,
   "title_cell": "Table of Contents",
   "title_sidebar": "Contents",
   "toc_cell": false,
   "toc_position": {},
   "toc_section_display": true,
   "toc_window_display": false
  },
  "vscode": {
   "interpreter": {
    "hash": "72c4c2ad4f44efbf07f603ea2c961d370246a2072412502ed74f3a99ce02cf0a"
   }
  }
 },
 "nbformat": 4,
 "nbformat_minor": 5
}
